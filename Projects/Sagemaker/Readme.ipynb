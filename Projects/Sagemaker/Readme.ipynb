{
 "cells": [
  {
   "cell_type": "markdown",
   "id": "7010dcef",
   "metadata": {},
   "source": [
    "# Amazon SageMaker Studio Lab\n",
    "\n",
    "A short 'Hello World' notebook, learning now to set up an environment, import modules and run code in Amazon SageMaker Studio Lab.\n",
    "\n",
    "Amazon SageMaker Studio Lab is a free machine learning (ML) development environment that provides the compute, storage (up to 15GB), and security—all at no cost—for anyone to learn and experiment with ML. \n",
    "\n",
    "SageMaker Studio Lab accelerates model building through GitHub integration, and it comes preconfigured with the most popular ML tools, frameworks, and libraries to get you started immediately. SageMaker Studio Lab automatically saves your work so you don’t need to restart in between sessions. It’s as easy as closing your laptop and coming back later."
   ]
  },
  {
   "cell_type": "markdown",
   "id": "8e145f05",
   "metadata": {},
   "source": [
    "<a href=\"https://studiolab.sagemaker.aws/import/github/davidcoxon/Python/blob/master/Projects/Sagemaker/Sagemaker_HelloWorld.ipynb\">\n",
    "  <img src=\"https://studiolab.sagemaker.aws/studiolab.svg\" alt=\"Open In SageMaker Studio Lab\"/>\n",
    "</a>\n",
    "\n",
    "https://github.com/davidcoxon/Python/blob/master/Projects/Sagemaker/Sagemaker_HelloWorld.ipynb"
   ]
  },
  {
   "cell_type": "code",
   "execution_count": null,
   "id": "777bf82a",
   "metadata": {},
   "outputs": [],
   "source": []
  }
 ],
 "metadata": {
  "kernelspec": {
   "display_name": "Python 3 (ipykernel)",
   "language": "python",
   "name": "python3"
  },
  "language_info": {
   "codemirror_mode": {
    "name": "ipython",
    "version": 3
   },
   "file_extension": ".py",
   "mimetype": "text/x-python",
   "name": "python",
   "nbconvert_exporter": "python",
   "pygments_lexer": "ipython3",
   "version": "3.9.7"
  }
 },
 "nbformat": 4,
 "nbformat_minor": 5
}
