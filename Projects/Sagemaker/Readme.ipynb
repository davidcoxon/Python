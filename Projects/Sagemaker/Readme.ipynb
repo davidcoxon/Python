{
 "cells": [
  {
   "cell_type": "markdown",
   "id": "a4e7306b",
   "metadata": {},
   "source": [
    "<a href=\"https://studiolab.sagemaker.aws/import/github/davidcoxon/Python/blob/master/Projects/Sagemaker/Sagemaker_HelloWorld.ipynb\">\n",
    "  <img src=\"https://studiolab.sagemaker.aws/studiolab.svg\" alt=\"Open In SageMaker Studio Lab\"/>\n",
    "</a>\n",
    "\n",
    "https://github.com/davidcoxon/Python/blob/master/Projects/Sagemaker/Sagemaker_HelloWorld.ipynb"
   ]
  },
  {
   "cell_type": "code",
   "execution_count": null,
   "id": "a5079ce6",
   "metadata": {},
   "outputs": [],
   "source": []
  },
  {
   "cell_type": "code",
   "execution_count": null,
   "id": "dcc87869",
   "metadata": {},
   "outputs": [],
   "source": []
  }
 ],
 "metadata": {
  "kernelspec": {
   "display_name": "Python 3 (ipykernel)",
   "language": "python",
   "name": "python3"
  },
  "language_info": {
   "codemirror_mode": {
    "name": "ipython",
    "version": 3
   },
   "file_extension": ".py",
   "mimetype": "text/x-python",
   "name": "python",
   "nbconvert_exporter": "python",
   "pygments_lexer": "ipython3",
   "version": "3.9.7"
  }
 },
 "nbformat": 4,
 "nbformat_minor": 5
}
