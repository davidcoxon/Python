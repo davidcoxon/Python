{
 "cells": [
  {
   "cell_type": "markdown",
   "metadata": {},
   "source": [
    "# Turtles\n",
    "\n",
    "This project is based on the fantastic Turtles library. It involves using functions and loops to manipulate turtles commands to generate geometric patterns."
   ]
  },
  {
   "cell_type": "markdown",
   "metadata": {
    "collapsed": true
   },
   "source": [
    "# Draw a Simple Shape\n",
    "\n",
    "To start with we will define a function that takes 2 arguments size and sides and that uses a Turtle that generates a shape which has x sides of length y. We'll call our Turtle Leo (after Leo from Teenage Ninja Turtles) and Colour his lines Blue.\n",
    "\n",
    "![SimpleShape](Graphs/basic.jpg?raw=true)"
   ]
  },
  {
   "cell_type": "code",
   "execution_count": 1,
   "metadata": {},
   "outputs": [
    {
     "name": "stderr",
     "output_type": "stream",
     "text": [
      "canvas2svg warning: Items of type 'image' are not supported.\n"
     ]
    }
   ],
   "source": [
    "def basic_shape(sides,size):\n",
    "    \"\"\"Generates a basic shape with turtles using 2 argument the number of sides and the length of each side\"\"\"\n",
    "    import turtle\n",
    "    import canvasvg\n",
    "\n",
    "    window=turtle.Screen()\n",
    "    window.bgcolor(\"white\")\n",
    "    leo = turtle.Turtle()\n",
    "    leo.color=(\"blue\")\n",
    "    angle=(360/sides)\n",
    "    \n",
    "    count=0\n",
    "    while count < sides:\n",
    "        leo.forward(size)\n",
    "        leo.right(angle)\n",
    "        count=count+1\n",
    "    canvasvg.saveall(\"Graphs/basic.svg\", window._canvas)    \n",
    "    window.exitonclick()\n",
    "          \n",
    "basic_shape(5,100)\n"
   ]
  },
  {
   "cell_type": "markdown",
   "metadata": {},
   "source": [
    "![rainbowrepeat](Graphs/rainbowrepeatingshape.jpg?raw=true)"
   ]
  },
  {
   "cell_type": "markdown",
   "metadata": {},
   "source": [
    "# Repeat a simple shape\n",
    "\n",
    "Next lets try to rotate and repeat that simple shape, this time we will define a function that takes 3 arguments size ,sides and repeats and that uses a Turtle that generates a shape which has x sides of length y. We'll call our Turtle Leo (after Leo from Teenage Ninja Turtles) and Colour his lines Blue."
   ]
  },
  {
   "cell_type": "code",
   "execution_count": 1,
   "metadata": {},
   "outputs": [
    {
     "name": "stderr",
     "output_type": "stream",
     "text": [
      "canvas2svg warning: Items of type 'image' are not supported.\n"
     ]
    }
   ],
   "source": [
    "def repeat_shape(sides,size,repeat):\n",
    "    \"\"\"Generates a repeating shape using turtles with 3 argument the number of sides, the length of each side and the number of repeats\"\"\"\n",
    "    import turtle\n",
    "    import canvasvg\n",
    "    \n",
    "    angle=(360/sides)\n",
    "    rotations=(360/repeat)\n",
    "    window=turtle.Screen()\n",
    "    window.bgcolor(\"white\")\n",
    "    leo = turtle.Turtle()\n",
    "    leo.color=(\"blue\")\n",
    "    angle=(360/sides)\n",
    "    \n",
    "    repeatcount=0\n",
    "    while repeatcount < repeat:\n",
    "        leo.penup() #don't draw when turtle moves\n",
    "        leo.left(rotations) \n",
    "        leo.pendown() #draw when turtle moves\n",
    "        \n",
    "        count=0\n",
    "        while count < sides:\n",
    "            leo.forward(size)\n",
    "            leo.right(angle)\n",
    "            count=count+1\n",
    "        repeatcount=repeatcount+1\n",
    "    canvasvg.saveall(\"Graphs/repeatingshape.svg\", window._canvas)   \n",
    "    window.exitonclick()\n",
    "repeat_shape(7,100,14)"
   ]
  },
  {
   "cell_type": "markdown",
   "metadata": {},
   "source": [
    "# Offset Repeated Shapes\n",
    "\n",
    "Next lets take the repeated shape code and simply add a move in with the rotate between redrawing the shape. Our function will takes 4 arguments this time size ,sides, repeats now offset. The Turtle will generates a shape which has x sides of length y, it will repeat z times and each rotation will be off set by w.\n",
    "\n",
    "![Offsetrepeatingshape](Graphs/offsetrepeatingshape.jpg?raw=true)"
   ]
  },
  {
   "cell_type": "code",
   "execution_count": 1,
   "metadata": {},
   "outputs": [
    {
     "name": "stderr",
     "output_type": "stream",
     "text": [
      "canvas2svg warning: Items of type 'image' are not supported.\n"
     ]
    }
   ],
   "source": [
    "def offset_repeat(sides,size,repeat,offset):\n",
    "    \"\"\"Generates a repeating shape using turtles with 4 argument the number of sides, the length of each side, the number of repeats and the offset distance\"\"\"\n",
    "    import turtle\n",
    "    import canvasvg\n",
    "    \n",
    "    angle=(360/sides)\n",
    "    rotations=((360/repeat)-20)\n",
    "    window=turtle.Screen()\n",
    "    window.bgcolor(\"white\")\n",
    "    leo = turtle.Turtle()\n",
    "    leo.color(\"blue\")\n",
    "    angle=(360/sides)\n",
    "    \n",
    "    repeatcount=0\n",
    "    while repeatcount < (repeat):\n",
    "        leo.penup() #don't draw when turtle moves\n",
    "        leo.left(rotations)\n",
    "        leo.forward(offset) \n",
    "        leo.left(offset)\n",
    "        leo.pendown() #draw when turtle moves\n",
    "        leo.color(\"blue\")\n",
    "        count=0\n",
    "        while count < sides:\n",
    "            leo.forward(size)\n",
    "            leo.right(angle)\n",
    "            count=count+1\n",
    "        repeatcount=repeatcount+1\n",
    "    canvasvg.saveall(\"Graphs/offsetrepeatingshape.svg\", window._canvas)    \n",
    "    window.exitonclick()\n",
    "          \n",
    "offset_repeat(5,100,10,20)"
   ]
  },
  {
   "cell_type": "markdown",
   "metadata": {},
   "source": [
    "# Drawing a Rainbow\n",
    "\n",
    "Lets define a function that takes 3 arguments size ,sides and repeats and that uses a Turtle that generates a shape which has x sides of length y. We'll call our Turtle Leo (after Leo from Teenage Ninja Turtles) and Colour his lines Blue."
   ]
  },
  {
   "cell_type": "code",
   "execution_count": 1,
   "metadata": {},
   "outputs": [
    {
     "name": "stderr",
     "output_type": "stream",
     "text": [
      "canvas2svg warning: Items of type 'image' are not supported.\n"
     ]
    }
   ],
   "source": [
    "def rainbow_shape(sides,size,repeat):\n",
    "    \"\"\"Generates a repeating shape using turtles with 3 argument the number of sides, the length of each side, the number of repeats and the offset distance\"\"\"    \n",
    "    import turtle\n",
    "    import canvasvg\n",
    "    \n",
    "    colours=[\"red\",\"orangered\",\"orange\",\"gold\",\"yellow\",\"greenyellow\",\"green\",\"seagreen\",\"blue\",\"blueviolet\",\"purple\",\"violet\",\"violetred\"]\n",
    "    rot=len(colours)\n",
    "    angle=(360/sides)\n",
    "    rotations=(360/rot)\n",
    "    window=turtle.Screen()\n",
    "    window.bgcolor(\"white\")\n",
    "    leo = turtle.Turtle()\n",
    "    leo.color(\"blue\")\n",
    "    \n",
    "    for colour in colours:\n",
    "        leo.penup() #don't draw when turtle moves\n",
    "        leo.left(rotations)\n",
    "        leo.pendown() #draw when turtle moves\n",
    "        leo.color(colour)\n",
    "        count=0\n",
    "        while count < sides:\n",
    "            leo.forward(size)\n",
    "            leo.right(angle)\n",
    "            count=count+1\n",
    "    canvasvg.saveall(\"Graphs/rainbowrepeatingshape.svg\", window._canvas)   \n",
    "    window.exitonclick()\n",
    "          \n",
    "rainbow_shape(7,100,14)"
   ]
  },
  {
   "cell_type": "markdown",
   "metadata": {},
   "source": [
    "# Colouring the Rainbow\n",
    "\n",
    "This time we are going to reuse the code from drawing a rainbow, but we'll fill the shapes."
   ]
  },
  {
   "cell_type": "code",
   "execution_count": 1,
   "metadata": {},
   "outputs": [
    {
     "name": "stderr",
     "output_type": "stream",
     "text": [
      "canvas2svg warning: Items of type 'image' are not supported.\n"
     ]
    }
   ],
   "source": [
    "def rainbow_shape(sides,size,repeat):\n",
    "    \"\"\"Generates a repeating shape with a solid fill using turtles with 3 argument the number of sides, the length of each side and the number of repeats\"\"\"        \n",
    "    import turtle\n",
    "    import canvasvg\n",
    "    \n",
    "    colours=[\"red\",\"orangered\",\"orange\",\"gold\",\"yellow\",\"greenyellow\",\"green\",\"seagreen\",\"blue\",\"blueviolet\",\"purple\",\"violet\",\"violetred\"]\n",
    "    rot=len(colours)\n",
    "    angle=(360/sides)\n",
    "    rotations=(360/rot)\n",
    "    window=turtle.Screen()\n",
    "    window.bgcolor(\"white\")\n",
    "    leo = turtle.Turtle()\n",
    "    leo.color(\"blue\")\n",
    "    \n",
    "    for colour in colours:\n",
    "        leo.penup() #don't draw when turtle moves\n",
    "        leo.left(rotations)\n",
    "        leo.pendown() #draw when turtle moves\n",
    "        leo.color(colour)\n",
    "        count=0\n",
    "        leo.begin_fill()\n",
    "        while count < sides:\n",
    "            leo.forward(size)\n",
    "            leo.right(angle)\n",
    "            count=count+1\n",
    "        leo.end_fill()\n",
    "        canvas = window.getcanvas()\n",
    "    canvasvg.saveall(\"Graphs/rainbowfill.svg\", window._canvas)   \n",
    "    window.exitonclick()\n",
    "          \n",
    "rainbow_shape(30,10,10)"
   ]
  },
  {
   "cell_type": "markdown",
   "metadata": {},
   "source": [
    "# A Hurd of Turtles\n",
    "\n",
    "Previously we have used a series of loops or nested loops to make a single turtle generate a pattern. But we could use a number series generator to populate a list and create several turtles that could simultaneously create different areas of the same pattern.\n",
    "\n",
    "![hurd](Graphs/hurd.jpg?raw=true)"
   ]
  },
  {
   "cell_type": "code",
   "execution_count": null,
   "metadata": {},
   "outputs": [
    {
     "name": "stderr",
     "output_type": "stream",
     "text": [
      "canvas2svg warning: Items of type 'image' are not supported.\n"
     ]
    }
   ],
   "source": [
    "def cloned_shape(sides,size,repeat,separation):\n",
    "    \"\"\"Generates a pattern using multiple turtles, accepts arguments sides, size, number of repeats and separation distance \"\"\"    \n",
    "    import turtle\n",
    "    import canvasvg\n",
    "\n",
    "    # Create window\n",
    "    angle=(360/sides)\n",
    "    rotation=(360/repeat)\n",
    "    sep=90\n",
    "    window=turtle.Screen()\n",
    "    window.bgcolor(\"white\")\n",
    "    \n",
    "    # Create Turtles\n",
    "    leo = turtle.Turtle()\n",
    "    leo.color(\"blue\")\n",
    "    leo.penup()\n",
    "    leo.left(1*sep) \n",
    "    leo.forward(separation) \n",
    "    leo.pendown()\n",
    "    mickey = turtle.Turtle()\n",
    "    mickey.color(\"orange\")\n",
    "    mickey.penup()\n",
    "    mickey.left(2*sep) \n",
    "    mickey.forward(separation) \n",
    "    mickey.pendown()\n",
    "    raph = turtle.Turtle()\n",
    "    raph.color(\"red\")\n",
    "    raph.penup()    \n",
    "    raph.left(3*sep) \n",
    "    raph.forward(separation) \n",
    "    raph.pendown()  \n",
    "    donnie = turtle.Turtle()   \n",
    "    donnie.color(\"purple\")\n",
    "    donnie.penup() \n",
    "    donnie.left(4*sep) \n",
    "    donnie.forward(separation)  \n",
    "    donnie.pendown() \n",
    "    \n",
    "    # Create Patterns    \n",
    "    \n",
    "    repeatcount=0\n",
    "    while repeatcount < repeat:\n",
    "        leo.penup() \n",
    "        leo.left(rotation) \n",
    "        leo.pendown()\n",
    "        mickey.penup() \n",
    "        mickey.left(rotation) \n",
    "        mickey.pendown()\n",
    "        raph.penup() \n",
    "        raph.left(rotation) \n",
    "        raph.pendown()\n",
    "        donnie.penup() \n",
    "        donnie.left(rotation) \n",
    "        donnie.pendown()\n",
    "        repeatcount=repeatcount+1\n",
    "\n",
    "        count=0                \n",
    "        while count < sides:\n",
    "            leo.forward(size)\n",
    "            mickey.forward(size)\n",
    "            raph.forward(size)\n",
    "            donnie.forward(size)\n",
    "        \n",
    "            leo.right(angle)\n",
    "            mickey.right(angle)\n",
    "            raph.right(angle)\n",
    "            donnie.right(angle)\n",
    "        \n",
    "            count=count+1      \n",
    "\n",
    "    canvasvg.saveall(\"Graphs/hurd.svg\", window._canvas)   \n",
    "    window.exitonclick()\n",
    "          \n",
    "cloned_shape(7,120,14,50)\n"
   ]
  },
  {
   "attachments": {
    "randomshapes.svg": {
     "image/svg+xml": [
      "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"
     ]
    }
   },
   "cell_type": "markdown",
   "metadata": {},
   "source": [
    "# Random Shapes\n",
    "\n",
    "In this version of our code we will use random numbers from the numpy library to define the starting position, line width, colour, number of sides and size of each shape.\n",
    "\n",
    "![randomshapes.svg](attachment:randomshapes.svg)"
   ]
  },
  {
   "cell_type": "code",
   "execution_count": 1,
   "metadata": {},
   "outputs": [
    {
     "name": "stderr",
     "output_type": "stream",
     "text": [
      "canvas2svg warning: Items of type 'image' are not supported.\n"
     ]
    }
   ],
   "source": [
    "def random_shapes(repeat):\n",
    "    \"\"\"Generate a prety pattern using random numbers and turtles\"\"\"\n",
    "    import turtle\n",
    "    import canvasvg\n",
    "    import numpy as np\n",
    "    rotations=(360/repeat)\n",
    "    window=turtle.Screen()\n",
    "    window.bgcolor(\"white\")\n",
    "    colours=[\"red\",\"orangered\",\"orange\",\"gold\",\"yellow\",\"greenyellow\",\"green\",\"seagreen\",\"blue\",\"blueviolet\",\"purple\",\"violet\",\"violetred\"]\n",
    "    col=len(colours)\n",
    "    leo = turtle.Turtle()\n",
    "    repeatcount=0\n",
    "    while repeatcount < repeat:\n",
    "        leo.penup() #don't draw when turtle moves\n",
    "        xpos=np.random.randint(-300,150)\n",
    "        ypos=np.random.randint(-150,300)\n",
    "        leo.goto(xpos,ypos)\n",
    "        leo.pendown() #draw when turtle moves\n",
    "        \n",
    "        count=0\n",
    "        size=np.random.randint(50,100)\n",
    "        sides=np.random.randint(3,col)\n",
    "        angle=(360/sides)\n",
    "        leocol=((colours)[np.random.randint(0,len(colours))])\n",
    "        leo.color(leocol)\n",
    "        leo.width(np.random.randint(0.5,8))\n",
    "        while count < sides:\n",
    "            leo.forward(size)\n",
    "            leo.right(angle)\n",
    "            count=count+1\n",
    "        repeatcount=repeatcount+1\n",
    "    canvasvg.saveall(\"Graphs/randomshapes.svg\", window._canvas)   \n",
    "    window.exitonclick()   \n",
    "          \n",
    "random_shapes(20)"
   ]
  },
  {
   "cell_type": "code",
   "execution_count": null,
   "metadata": {},
   "outputs": [],
   "source": []
  }
 ],
 "metadata": {
  "kernelspec": {
   "display_name": "Python 3 (ipykernel)",
   "language": "python",
   "name": "python3"
  },
  "language_info": {
   "codemirror_mode": {
    "name": "ipython",
    "version": 3
   },
   "file_extension": ".py",
   "mimetype": "text/x-python",
   "name": "python",
   "nbconvert_exporter": "python",
   "pygments_lexer": "ipython3",
   "version": "3.9.7"
  }
 },
 "nbformat": 4,
 "nbformat_minor": 2
}
