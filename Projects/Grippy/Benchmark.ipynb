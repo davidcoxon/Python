{
 "cells": [
  {
   "cell_type": "markdown",
   "metadata": {},
   "source": [
    "#  Grippy Benchmarking Analysis\n",
    "\n",
    "[Grippy Form](https://docs.google.com/forms/d/e/1FAIpQLSeHHFIHJOOWACWoOs7_FWou_mAI1fK03YU93pizUeHE-c7t3A/viewform)\n",
    "\n",
    "Based on the data submitted by 103 climbers invited to take part in the Grippy benchmarking exercise. This first round of research project seeks to explore the data collected and establish whether the data collected can be used to evaluate the climbers ability.\n",
    "\n",
    "Writen by David Coxon Created 18th May 2020 Last Updated 18th May 2020"
   ]
  },
  {
   "cell_type": "markdown",
   "metadata": {},
   "source": [
    "### Notes on Data File\n",
    "\n",
    "The original Data from the google form can be found in file ds1_anon.csv this data has had all names and contact details removed so that it is anonymous in terms od GDPR. The first row contains the column names in the forms of the full form question. \n",
    "\n",
    "The file grippy_ds1_anon.csv contains a version of the data as a csv file which has been pre-processed in excel, the original column titles have been shorted to make them more friendly as column headers. An additional column has been added to classify the climbers as Intermediate, Advanced or Pro this is determined by which size of edge they performed the testing on 14mm or 16mm.\n",
    "\n",
    "The response \"Equal Sport and Bouldering\" under 'Primary_Activity' was simplified to 'Both'.\n",
    "\n",
    "In the Original Data the 4 columns relating to Sports Grades and the 4 Columns relating to Bouldering Grades for Climbers that selected 'Equal Sport and Bouldering' were duplicated with 8 columns of their own. These were moved to the corresponding Sports and Bouldering columns and the empty columns removed. \n",
    "\n",
    "The Pull-up and Leg raise data from all 3 levels of climbers were consolidated into 2 columns.\n",
    "The Right and Left Lock off data from Advanced and pro were consolidated into 2 columns.\n",
    "The Single leg front lever data rom Advanced and pro were consolidated into a single column."
   ]
  },
  {
   "cell_type": "code",
   "execution_count": 12,
   "metadata": {},
   "outputs": [
    {
     "name": "stdout",
     "output_type": "stream",
     "text": [
      "ds1_anon.csv        grippy_ds1_anon.csv\r\n"
     ]
    }
   ],
   "source": [
    "# Get file Names\n",
    "!cd data; ls"
   ]
  },
  {
   "cell_type": "markdown",
   "metadata": {},
   "source": [
    "## Import Packages"
   ]
  },
  {
   "cell_type": "code",
   "execution_count": 48,
   "metadata": {},
   "outputs": [],
   "source": [
    "### import packages\n",
    "\n",
    "import pandas as pd\n",
    "import numpy as np\n",
    "\n",
    "import matplotlib.pyplot as plt\n",
    "import pylab"
   ]
  },
  {
   "cell_type": "markdown",
   "metadata": {},
   "source": [
    "## Import Data"
   ]
  },
  {
   "cell_type": "code",
   "execution_count": 41,
   "metadata": {},
   "outputs": [
    {
     "name": "stdout",
     "output_type": "stream",
     "text": [
      "   Gender  Age  Weight         Level  Edge Primary_Activity  \\\n",
      "0    Male   31    65.0  Intermediate  16.0             Both   \n",
      "1  Female   27    57.0  Intermediate   NaN             Both   \n",
      "2  Female   21    62.0  Intermediate   NaN             Both   \n",
      "3    Male   23    95.0  Intermediate   NaN             Both   \n",
      "4    Male   27    75.0  Intermediate   NaN             Both   \n",
      "\n",
      "   Sports Grade Redpoint Multi-session  Sports Grade Redpoint Single-session  \\\n",
      "0                                 19.0                                  18.0   \n",
      "1                                 17.0                                  16.0   \n",
      "2                                 16.0                                  17.0   \n",
      "3                                 14.0                                  12.0   \n",
      "4                                 14.0                                  14.0   \n",
      "\n",
      "   Sports Grade Flashed  Sports Grade Flashed Consistently  ...  \\\n",
      "0                  19.0                               18.0  ...   \n",
      "1                  17.0                               16.0  ...   \n",
      "2                  15.0                               15.0  ...   \n",
      "3                  14.0                               12.0  ...   \n",
      "4                  14.0                               14.0  ...   \n",
      "\n",
      "   Pull-ups Left  Leg-raises  16mm Hang 4_finger  14mm Hang 4_finger  \\\n",
      "0            NaN         5.0                 0.0                 NaN   \n",
      "1            NaN         5.0                 4.0                 NaN   \n",
      "2            NaN        30.0                 4.0                 NaN   \n",
      "3            NaN         7.0                 6.0                 NaN   \n",
      "4            NaN         2.0                 8.0                 NaN   \n",
      "\n",
      "   14mm edge - Front3  14mm edge - Back3  Right Arm Lock_off  \\\n",
      "0                 NaN                NaN                 NaN   \n",
      "1                 NaN                NaN                 NaN   \n",
      "2                 NaN                NaN                 NaN   \n",
      "3                 NaN                NaN                 NaN   \n",
      "4                 NaN                NaN                 NaN   \n",
      "\n",
      "   Left Arm Lock_off  Front Lever Single  Front Lever  \n",
      "0                NaN                 NaN          NaN  \n",
      "1                NaN                 NaN          NaN  \n",
      "2                NaN                 NaN          NaN  \n",
      "3                NaN                 NaN          NaN  \n",
      "4                NaN                 NaN          NaN  \n",
      "\n",
      "[5 rows x 26 columns]\n"
     ]
    }
   ],
   "source": [
    "# import Benchmarking Data from csv\n",
    "file=\"Data/grippy_ds1_anon.csv\"\n",
    "Benchmark_df=pd.read_csv(file, encoding = \"ISO-8859-1\")\n",
    "\n",
    "# print a few sample lines of data\n",
    "print(Benchmark_df.head())"
   ]
  },
  {
   "cell_type": "markdown",
   "metadata": {},
   "source": [
    "## Columns"
   ]
  },
  {
   "cell_type": "code",
   "execution_count": 42,
   "metadata": {},
   "outputs": [
    {
     "name": "stdout",
     "output_type": "stream",
     "text": [
      "\n",
      " There are 26 Columns.\n",
      "\n",
      " Benchmark Columns: \n",
      "\n",
      "['Gender' 'Age' 'Weight' 'Level' 'Edge' 'Primary_Activity'\n",
      " 'Sports Grade Redpoint Multi-session'\n",
      " 'Sports Grade Redpoint Single-session' 'Sports Grade Flashed'\n",
      " 'Sports Grade Flashed Consistently'\n",
      " 'Boulder Grade Redpoint Multi-session'\n",
      " 'Boulder Grade Redpoint Single-session' 'Boulder Grade Flashed'\n",
      " 'Boulder Grade Boulder Flashed Consistently' 'Pull-ups' 'Pull-ups Right'\n",
      " 'Pull-ups Left' 'Leg-raises' '16mm Hang 4_finger' '14mm Hang 4_finger'\n",
      " '14mm edge - Front3' '14mm edge - Back3' 'Right Arm Lock_off'\n",
      " 'Left Arm Lock_off' 'Front Lever Single' 'Front Lever']\n"
     ]
    }
   ],
   "source": [
    "# number of columns\n",
    "print(\"\\n There are \" + str(len(Benchmark_df.columns)) + \" Columns.\" )\n",
    "\n",
    "# print column headers\n",
    "print(\"\\n Benchmark Columns: \\n\")\n",
    "print(Benchmark_df.columns.values)"
   ]
  },
  {
   "cell_type": "code",
   "execution_count": 47,
   "metadata": {},
   "outputs": [
    {
     "name": "stdout",
     "output_type": "stream",
     "text": [
      "\n",
      " Benchmark Overview: \n",
      " \n"
     ]
    },
    {
     "data": {
      "text/html": [
       "<div>\n",
       "<style scoped>\n",
       "    .dataframe tbody tr th:only-of-type {\n",
       "        vertical-align: middle;\n",
       "    }\n",
       "\n",
       "    .dataframe tbody tr th {\n",
       "        vertical-align: top;\n",
       "    }\n",
       "\n",
       "    .dataframe thead th {\n",
       "        text-align: right;\n",
       "    }\n",
       "</style>\n",
       "<table border=\"1\" class=\"dataframe\">\n",
       "  <thead>\n",
       "    <tr style=\"text-align: right;\">\n",
       "      <th></th>\n",
       "      <th>Age</th>\n",
       "      <th>Weight</th>\n",
       "      <th>Edge</th>\n",
       "      <th>Sports Grade Redpoint Multi-session</th>\n",
       "      <th>Sports Grade Redpoint Single-session</th>\n",
       "      <th>Sports Grade Flashed</th>\n",
       "      <th>Sports Grade Flashed Consistently</th>\n",
       "      <th>Boulder Grade Redpoint Multi-session</th>\n",
       "      <th>Boulder Grade Redpoint Single-session</th>\n",
       "      <th>Boulder Grade Flashed</th>\n",
       "      <th>...</th>\n",
       "      <th>Pull-ups Left</th>\n",
       "      <th>Leg-raises</th>\n",
       "      <th>16mm Hang 4_finger</th>\n",
       "      <th>14mm Hang 4_finger</th>\n",
       "      <th>14mm edge - Front3</th>\n",
       "      <th>14mm edge - Back3</th>\n",
       "      <th>Right Arm Lock_off</th>\n",
       "      <th>Left Arm Lock_off</th>\n",
       "      <th>Front Lever Single</th>\n",
       "      <th>Front Lever</th>\n",
       "    </tr>\n",
       "  </thead>\n",
       "  <tbody>\n",
       "    <tr>\n",
       "      <th>count</th>\n",
       "      <td>103.000000</td>\n",
       "      <td>103.000000</td>\n",
       "      <td>1.0</td>\n",
       "      <td>57.000000</td>\n",
       "      <td>57.000000</td>\n",
       "      <td>57.000000</td>\n",
       "      <td>57.000000</td>\n",
       "      <td>75.000000</td>\n",
       "      <td>75.000000</td>\n",
       "      <td>75.000000</td>\n",
       "      <td>...</td>\n",
       "      <td>3.0</td>\n",
       "      <td>100.000000</td>\n",
       "      <td>65.000000</td>\n",
       "      <td>35.000000</td>\n",
       "      <td>3.000000</td>\n",
       "      <td>3.0</td>\n",
       "      <td>38.000000</td>\n",
       "      <td>38.000000</td>\n",
       "      <td>38.000000</td>\n",
       "      <td>3.000000</td>\n",
       "    </tr>\n",
       "    <tr>\n",
       "      <th>mean</th>\n",
       "      <td>31.805825</td>\n",
       "      <td>74.072816</td>\n",
       "      <td>16.0</td>\n",
       "      <td>17.596491</td>\n",
       "      <td>16.666667</td>\n",
       "      <td>16.157895</td>\n",
       "      <td>15.157895</td>\n",
       "      <td>18.986667</td>\n",
       "      <td>18.066667</td>\n",
       "      <td>17.800000</td>\n",
       "      <td>...</td>\n",
       "      <td>2.0</td>\n",
       "      <td>15.660000</td>\n",
       "      <td>15.784615</td>\n",
       "      <td>23.614286</td>\n",
       "      <td>30.333333</td>\n",
       "      <td>26.0</td>\n",
       "      <td>9.184211</td>\n",
       "      <td>6.947368</td>\n",
       "      <td>10.263158</td>\n",
       "      <td>10.333333</td>\n",
       "    </tr>\n",
       "    <tr>\n",
       "      <th>std</th>\n",
       "      <td>9.257809</td>\n",
       "      <td>15.383536</td>\n",
       "      <td>NaN</td>\n",
       "      <td>2.846424</td>\n",
       "      <td>2.753785</td>\n",
       "      <td>2.651074</td>\n",
       "      <td>2.724161</td>\n",
       "      <td>3.142960</td>\n",
       "      <td>3.713865</td>\n",
       "      <td>2.775374</td>\n",
       "      <td>...</td>\n",
       "      <td>1.0</td>\n",
       "      <td>9.588735</td>\n",
       "      <td>13.833262</td>\n",
       "      <td>17.554154</td>\n",
       "      <td>0.577350</td>\n",
       "      <td>4.0</td>\n",
       "      <td>9.717233</td>\n",
       "      <td>6.742152</td>\n",
       "      <td>8.698196</td>\n",
       "      <td>2.081666</td>\n",
       "    </tr>\n",
       "    <tr>\n",
       "      <th>min</th>\n",
       "      <td>17.000000</td>\n",
       "      <td>46.000000</td>\n",
       "      <td>16.0</td>\n",
       "      <td>12.000000</td>\n",
       "      <td>10.000000</td>\n",
       "      <td>10.000000</td>\n",
       "      <td>10.000000</td>\n",
       "      <td>11.000000</td>\n",
       "      <td>10.000000</td>\n",
       "      <td>11.000000</td>\n",
       "      <td>...</td>\n",
       "      <td>1.0</td>\n",
       "      <td>0.000000</td>\n",
       "      <td>0.000000</td>\n",
       "      <td>2.000000</td>\n",
       "      <td>30.000000</td>\n",
       "      <td>22.0</td>\n",
       "      <td>0.000000</td>\n",
       "      <td>0.000000</td>\n",
       "      <td>0.000000</td>\n",
       "      <td>8.000000</td>\n",
       "    </tr>\n",
       "    <tr>\n",
       "      <th>25%</th>\n",
       "      <td>25.000000</td>\n",
       "      <td>66.000000</td>\n",
       "      <td>16.0</td>\n",
       "      <td>15.000000</td>\n",
       "      <td>15.000000</td>\n",
       "      <td>14.000000</td>\n",
       "      <td>13.000000</td>\n",
       "      <td>17.000000</td>\n",
       "      <td>16.000000</td>\n",
       "      <td>16.000000</td>\n",
       "      <td>...</td>\n",
       "      <td>1.5</td>\n",
       "      <td>10.000000</td>\n",
       "      <td>6.000000</td>\n",
       "      <td>10.500000</td>\n",
       "      <td>30.000000</td>\n",
       "      <td>24.0</td>\n",
       "      <td>3.000000</td>\n",
       "      <td>2.000000</td>\n",
       "      <td>5.000000</td>\n",
       "      <td>9.500000</td>\n",
       "    </tr>\n",
       "    <tr>\n",
       "      <th>50%</th>\n",
       "      <td>30.000000</td>\n",
       "      <td>73.000000</td>\n",
       "      <td>16.0</td>\n",
       "      <td>18.000000</td>\n",
       "      <td>17.000000</td>\n",
       "      <td>16.000000</td>\n",
       "      <td>15.000000</td>\n",
       "      <td>19.000000</td>\n",
       "      <td>18.000000</td>\n",
       "      <td>18.000000</td>\n",
       "      <td>...</td>\n",
       "      <td>2.0</td>\n",
       "      <td>15.000000</td>\n",
       "      <td>12.000000</td>\n",
       "      <td>20.500000</td>\n",
       "      <td>30.000000</td>\n",
       "      <td>26.0</td>\n",
       "      <td>6.500000</td>\n",
       "      <td>5.500000</td>\n",
       "      <td>7.000000</td>\n",
       "      <td>11.000000</td>\n",
       "    </tr>\n",
       "    <tr>\n",
       "      <th>75%</th>\n",
       "      <td>36.000000</td>\n",
       "      <td>80.000000</td>\n",
       "      <td>16.0</td>\n",
       "      <td>19.000000</td>\n",
       "      <td>18.000000</td>\n",
       "      <td>18.000000</td>\n",
       "      <td>18.000000</td>\n",
       "      <td>21.000000</td>\n",
       "      <td>20.000000</td>\n",
       "      <td>20.000000</td>\n",
       "      <td>...</td>\n",
       "      <td>2.5</td>\n",
       "      <td>21.000000</td>\n",
       "      <td>22.000000</td>\n",
       "      <td>30.000000</td>\n",
       "      <td>30.500000</td>\n",
       "      <td>28.0</td>\n",
       "      <td>12.000000</td>\n",
       "      <td>8.750000</td>\n",
       "      <td>14.000000</td>\n",
       "      <td>11.500000</td>\n",
       "    </tr>\n",
       "    <tr>\n",
       "      <th>max</th>\n",
       "      <td>69.000000</td>\n",
       "      <td>185.000000</td>\n",
       "      <td>16.0</td>\n",
       "      <td>26.000000</td>\n",
       "      <td>26.000000</td>\n",
       "      <td>22.000000</td>\n",
       "      <td>21.000000</td>\n",
       "      <td>26.000000</td>\n",
       "      <td>27.000000</td>\n",
       "      <td>24.000000</td>\n",
       "      <td>...</td>\n",
       "      <td>3.0</td>\n",
       "      <td>50.000000</td>\n",
       "      <td>60.000000</td>\n",
       "      <td>90.000000</td>\n",
       "      <td>31.000000</td>\n",
       "      <td>30.0</td>\n",
       "      <td>51.000000</td>\n",
       "      <td>30.000000</td>\n",
       "      <td>35.000000</td>\n",
       "      <td>12.000000</td>\n",
       "    </tr>\n",
       "  </tbody>\n",
       "</table>\n",
       "<p>8 rows × 23 columns</p>\n",
       "</div>"
      ],
      "text/plain": [
       "              Age      Weight  Edge  Sports Grade Redpoint Multi-session  \\\n",
       "count  103.000000  103.000000   1.0                            57.000000   \n",
       "mean    31.805825   74.072816  16.0                            17.596491   \n",
       "std      9.257809   15.383536   NaN                             2.846424   \n",
       "min     17.000000   46.000000  16.0                            12.000000   \n",
       "25%     25.000000   66.000000  16.0                            15.000000   \n",
       "50%     30.000000   73.000000  16.0                            18.000000   \n",
       "75%     36.000000   80.000000  16.0                            19.000000   \n",
       "max     69.000000  185.000000  16.0                            26.000000   \n",
       "\n",
       "       Sports Grade Redpoint Single-session  Sports Grade Flashed  \\\n",
       "count                             57.000000             57.000000   \n",
       "mean                              16.666667             16.157895   \n",
       "std                                2.753785              2.651074   \n",
       "min                               10.000000             10.000000   \n",
       "25%                               15.000000             14.000000   \n",
       "50%                               17.000000             16.000000   \n",
       "75%                               18.000000             18.000000   \n",
       "max                               26.000000             22.000000   \n",
       "\n",
       "       Sports Grade Flashed Consistently  \\\n",
       "count                          57.000000   \n",
       "mean                           15.157895   \n",
       "std                             2.724161   \n",
       "min                            10.000000   \n",
       "25%                            13.000000   \n",
       "50%                            15.000000   \n",
       "75%                            18.000000   \n",
       "max                            21.000000   \n",
       "\n",
       "       Boulder Grade Redpoint Multi-session  \\\n",
       "count                             75.000000   \n",
       "mean                              18.986667   \n",
       "std                                3.142960   \n",
       "min                               11.000000   \n",
       "25%                               17.000000   \n",
       "50%                               19.000000   \n",
       "75%                               21.000000   \n",
       "max                               26.000000   \n",
       "\n",
       "       Boulder Grade Redpoint Single-session  Boulder Grade Flashed  ...  \\\n",
       "count                              75.000000              75.000000  ...   \n",
       "mean                               18.066667              17.800000  ...   \n",
       "std                                 3.713865               2.775374  ...   \n",
       "min                                10.000000              11.000000  ...   \n",
       "25%                                16.000000              16.000000  ...   \n",
       "50%                                18.000000              18.000000  ...   \n",
       "75%                                20.000000              20.000000  ...   \n",
       "max                                27.000000              24.000000  ...   \n",
       "\n",
       "       Pull-ups Left  Leg-raises  16mm Hang 4_finger  14mm Hang 4_finger  \\\n",
       "count            3.0  100.000000           65.000000           35.000000   \n",
       "mean             2.0   15.660000           15.784615           23.614286   \n",
       "std              1.0    9.588735           13.833262           17.554154   \n",
       "min              1.0    0.000000            0.000000            2.000000   \n",
       "25%              1.5   10.000000            6.000000           10.500000   \n",
       "50%              2.0   15.000000           12.000000           20.500000   \n",
       "75%              2.5   21.000000           22.000000           30.000000   \n",
       "max              3.0   50.000000           60.000000           90.000000   \n",
       "\n",
       "       14mm edge - Front3  14mm edge - Back3  Right Arm Lock_off  \\\n",
       "count            3.000000                3.0           38.000000   \n",
       "mean            30.333333               26.0            9.184211   \n",
       "std              0.577350                4.0            9.717233   \n",
       "min             30.000000               22.0            0.000000   \n",
       "25%             30.000000               24.0            3.000000   \n",
       "50%             30.000000               26.0            6.500000   \n",
       "75%             30.500000               28.0           12.000000   \n",
       "max             31.000000               30.0           51.000000   \n",
       "\n",
       "       Left Arm Lock_off  Front Lever Single  Front Lever  \n",
       "count          38.000000           38.000000     3.000000  \n",
       "mean            6.947368           10.263158    10.333333  \n",
       "std             6.742152            8.698196     2.081666  \n",
       "min             0.000000            0.000000     8.000000  \n",
       "25%             2.000000            5.000000     9.500000  \n",
       "50%             5.500000            7.000000    11.000000  \n",
       "75%             8.750000           14.000000    11.500000  \n",
       "max            30.000000           35.000000    12.000000  \n",
       "\n",
       "[8 rows x 23 columns]"
      ]
     },
     "execution_count": 47,
     "metadata": {},
     "output_type": "execute_result"
    }
   ],
   "source": [
    "# Get a statistical overview of the data\n",
    "\n",
    "print(\"\\n Benchmark Overview: \\n \")\n",
    "Benchmark_df.describe()"
   ]
  },
  {
   "cell_type": "markdown",
   "metadata": {},
   "source": [
    "## General Overview of Participants\n",
    "\n",
    "103 climbers took part in the project.\n",
    "\n",
    "The average age (mean) of climbers taking part was 31 with climbers aged aged between 17 and 69 being benchmarked.\n",
    "\n",
    "The average weight of climbers was 74kg with individual weights reported ranging from 46 to 185kg. (Note its doubtful that a climber weights 185kg this is most likely an error)\n",
    "\n",
    "Sports Grades ranged from 10 to 26 using the IRCA reporting scale with an average Redpoint of 17 (mean). Boulder grades ranged from 10 to 27 on the IRCA reporting scale with an average redpoint of 18 (mean)."
   ]
  },
  {
   "cell_type": "markdown",
   "metadata": {},
   "source": [
    "## Create Subsets"
   ]
  },
  {
   "cell_type": "code",
   "execution_count": 71,
   "metadata": {},
   "outputs": [],
   "source": [
    "# subset Gender\n",
    "\n",
    "Benchmark_male_df=(Benchmark_df[Benchmark_df['Gender']==\"Male\"])\n",
    "Benchmark_female_df=(Benchmark_df[Benchmark_df['Gender']==\"Female\"])"
   ]
  },
  {
   "cell_type": "markdown",
   "metadata": {},
   "source": [
    "## Visualisation of Participant Profiles"
   ]
  },
  {
   "cell_type": "markdown",
   "metadata": {},
   "source": [
    "## Participant Age by Gender"
   ]
  },
  {
   "cell_type": "code",
   "execution_count": 76,
   "metadata": {},
   "outputs": [
    {
     "data": {
      "image/png": "[encoded data removed]",
      "text/plain": [
       "<Figure size 432x288 with 1 Axes>"
      ]
     },
     "metadata": {},
     "output_type": "display_data"
    }
   ],
   "source": [
    "# sort by age and Gender\n",
    "AgeSorted=Benchmark_df.sort_values(['Age'], ascending=[True])\n",
    "MaleAgeSorted=Benchmark_male_df.sort_values(['Age'], ascending=[True])\n",
    "FemaleAgeSorted=Benchmark_female_df.sort_values(['Age'], ascending=[True])\n",
    "# create series for y axis based on number of Participants\n",
    "y = (AgeSorted)['Age']\n",
    "y1=(MaleAgeSorted)['Age']\n",
    "y2=(FemaleAgeSorted)['Age']\n",
    "N = len(AgeSorted)\n",
    "N1=len(MaleAgeSorted)\n",
    "N2=len(FemaleAgeSorted)\n",
    "x = range(N)\n",
    "x1= range(N1)\n",
    "x2= range(N2)\n",
    "\n",
    "# plot Pafticipant Age\n",
    "# plt.plot(x,y)\n",
    "plt.plot(x1,y1)\n",
    "plt.plot(x2,y2)\n",
    "plt.xlabel(\"Participants\")\n",
    "plt.ylabel(\"Age\")\n",
    "# print plots\n",
    "#pylab.savefig('Graphs/salesdistribution.png')   # save the figure to file\n",
    "#pylab.savefig('Graphs/salesdistribution.pdf') # savefig('salesdistribution.pdf')\n",
    "plt.show()"
   ]
  },
  {
   "cell_type": "markdown",
   "metadata": {},
   "source": [
    "### Observation on Gender and Age\n",
    "\n",
    "Under 12 percent of the climbers benchmarked were female. The age range of female climbers being benchmarked was between 17 and 36, the age range of male climbers being benchmarked was noteably higher from 19 to 69. This is consistent with numbers of climbers in the wider community. Traditionally climbing was very male dominated sport and while this is starting to change, people coming into climbing tend to do so at a younger age so the majority of female climbers are of a younger age group.    "
   ]
  },
  {
   "cell_type": "markdown",
   "metadata": {},
   "source": [
    "## Boulder Grade by Gender"
   ]
  },
  {
   "cell_type": "code",
   "execution_count": 85,
   "metadata": {},
   "outputs": [
    {
     "data": {
      "image/png": "[encoded data removed]",
      "text/plain": [
       "<Figure size 432x288 with 1 Axes>"
      ]
     },
     "metadata": {},
     "output_type": "display_data"
    }
   ],
   "source": [
    "# sort by age and Gender\n",
    "GradeSorted=Benchmark_df.sort_values(['Boulder Grade Redpoint Multi-session'], ascending=[True])\n",
    "MaleGradeSorted=Benchmark_male_df.sort_values(['Boulder Grade Redpoint Multi-session'], ascending=[True])\n",
    "FemaleGradeSorted=Benchmark_female_df.sort_values(['Boulder Grade Redpoint Multi-session'], ascending=[True])\n",
    "# create series for y axis based on number of Participants\n",
    "y = (GradeSorted)['Boulder Grade Redpoint Multi-session']\n",
    "y1=(MaleGradeSorted)['Boulder Grade Redpoint Multi-session']\n",
    "y2=(FemaleGradeSorted)['Boulder Grade Redpoint Multi-session']\n",
    "N = len(GradeSorted)\n",
    "N1=len(MaleGradeSorted)\n",
    "N2=len(FemaleGradeSorted)\n",
    "x = range(N)\n",
    "x1= range(N1)\n",
    "x2= range(N2)\n",
    "\n",
    "# plot Pafticipant Age\n",
    "# plt.plot(x,y)\n",
    "plt.scatter(x1,y1)\n",
    "plt.scatter(x2,y2)\n",
    "plt.xlabel(\"Participants\")\n",
    "plt.ylabel(\"Grade\")\n",
    "# print plots\n",
    "#pylab.savefig('Graphs/salesdistribution.png')   # save the figure to file\n",
    "#pylab.savefig('Graphs/salesdistribution.pdf') # savefig('salesdistribution.pdf')\n",
    "plt.show()"
   ]
  },
  {
   "cell_type": "markdown",
   "metadata": {},
   "source": [
    "### Observation on Grade and Gender\n",
    "The age range of grades on the IRCA reporting scale range from 11 to 26, this would be considered to include from beginner to elite. Within the female climbers benchmarked the range went from 15 to 21 which would be considered to go from intermediate to advanced."
   ]
  },
  {
   "cell_type": "markdown",
   "metadata": {},
   "source": [
    "## Boulder Grade by Age"
   ]
  },
  {
   "cell_type": "code",
   "execution_count": 87,
   "metadata": {},
   "outputs": [
    {
     "data": {
      "image/png": "[encoded data removed]",
      "text/plain": [
       "<Figure size 432x288 with 1 Axes>"
      ]
     },
     "metadata": {},
     "output_type": "display_data"
    }
   ],
   "source": [
    "# sort by age and Gender\n",
    "GradeSorted=Benchmark_df.sort_values(['Boulder Grade Redpoint Multi-session'], ascending=[True])\n",
    "MaleGradeSorted=Benchmark_male_df.sort_values(['Boulder Grade Redpoint Multi-session'], ascending=[True])\n",
    "FemaleGradeSorted=Benchmark_female_df.sort_values(['Boulder Grade Redpoint Multi-session'], ascending=[True])\n",
    "# create series for y axis based on number of Participants\n",
    "y = (GradeSorted)['Boulder Grade Redpoint Multi-session']\n",
    "y1=(MaleGradeSorted)['Boulder Grade Redpoint Multi-session']\n",
    "y2=(FemaleGradeSorted)['Boulder Grade Redpoint Multi-session']\n",
    "N = len(GradeSorted)\n",
    "N1=len(MaleGradeSorted)\n",
    "N2=len(FemaleGradeSorted)\n",
    "x = range(N)\n",
    "x1= (MaleGradeSorted)['Age']\n",
    "x2= (FemaleGradeSorted)['Age']\n",
    "\n",
    "# plot Pafticipant Age\n",
    "# plt.plot(x,y)\n",
    "plt.scatter(x1,y1)\n",
    "plt.scatter(x2,y2)\n",
    "plt.xlabel(\"Age\")\n",
    "plt.ylabel(\"Bouldering Grade\")\n",
    "# print plots\n",
    "#pylab.savefig('Graphs/salesdistribution.png')   # save the figure to file\n",
    "#pylab.savefig('Graphs/salesdistribution.pdf') # savefig('salesdistribution.pdf')\n",
    "plt.show()"
   ]
  },
  {
   "cell_type": "markdown",
   "metadata": {},
   "source": [
    "### Observation on Grade and Age\n",
    "The distribution of boulder grade by both age and gender is quite even implying that there is no linear relationship between grade and either age or gener. "
   ]
  },
  {
   "cell_type": "markdown",
   "metadata": {},
   "source": [
    "## Sports Grade by Age"
   ]
  },
  {
   "cell_type": "code",
   "execution_count": 86,
   "metadata": {},
   "outputs": [
    {
     "data": {
      "image/png": "[encoded data removed]",
      "text/plain": [
       "<Figure size 432x288 with 1 Axes>"
      ]
     },
     "metadata": {},
     "output_type": "display_data"
    }
   ],
   "source": [
    "# sort by Sports Grade and Gender\n",
    "SportsGradeSorted=Benchmark_df.sort_values(['Sports Grade Redpoint Multi-session'], ascending=[True])\n",
    "MaleSportsGradeSorted=Benchmark_male_df.sort_values(['Sports Grade Redpoint Multi-session'], ascending=[True])\n",
    "FemaleSportsGradeSorted=Benchmark_female_df.sort_values(['Sports Grade Redpoint Multi-session'], ascending=[True])\n",
    "# create series for y axis based on number of Participants\n",
    "y = (SportsGradeSorted)['Sports Grade Redpoint Multi-session']\n",
    "y1=(MaleGradeSorted)['Sports Grade Redpoint Multi-session']\n",
    "y2=(FemaleGradeSorted)['Sports Grade Redpoint Multi-session']\n",
    "N = len(SportsGradeSorted)\n",
    "N1=len(MaleSportsGradeSorted)\n",
    "N2=len(FemaleSportsGradeSorted)\n",
    "x = range(N)\n",
    "x1= (MaleSportsGradeSorted)['Age']\n",
    "x2= (FemaleSportsGradeSorted)['Age']\n",
    "\n",
    "# plot Pafticipant Age\n",
    "# plt.plot(x,y)\n",
    "plt.scatter(x1,y1)\n",
    "plt.scatter(x2,y2)\n",
    "plt.xlabel(\"Age\")\n",
    "plt.ylabel(\"Sports Grade\")\n",
    "# print plots\n",
    "#pylab.savefig('Graphs/salesdistribution.png')   # save the figure to file\n",
    "#pylab.savefig('Graphs/salesdistribution.pdf') # savefig('salesdistribution.pdf')\n",
    "plt.show()"
   ]
  },
  {
   "cell_type": "markdown",
   "metadata": {},
   "source": [
    "### Observation on Sports Grade and Age\n",
    "The distribution of Sports grade by both age and gender is different to the distribution of bouldering grades but is also quite even. Grades generally appear to be a little lower than the boulder grades "
   ]
  },
  {
   "cell_type": "code",
   "execution_count": null,
   "metadata": {},
   "outputs": [],
   "source": []
  }
 ],
 "metadata": {
  "kernelspec": {
   "display_name": "Python 3",
   "language": "python",
   "name": "python3"
  },
  "language_info": {
   "codemirror_mode": {
    "name": "ipython",
    "version": 3
   },
   "file_extension": ".py",
   "mimetype": "text/x-python",
   "name": "python",
   "nbconvert_exporter": "python",
   "pygments_lexer": "ipython3",
   "version": "3.6.8"
  }
 },
 "nbformat": 4,
 "nbformat_minor": 2
}
