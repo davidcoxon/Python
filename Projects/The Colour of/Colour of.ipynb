{
 "cells": [
  {
   "cell_type": "markdown",
   "metadata": {},
   "source": [
    "# The colour of ...\n",
    "\n",
    "This project is based on the code from the DataCamp Clustering with SciPy Module.\n",
    "\n",
    "My initial idea is to use the code to identify the dominant colours in a series of images and then to compare the results to see how the dominant colours have changed over time."
   ]
  },
  {
   "cell_type": "code",
   "execution_count": 13,
   "metadata": {},
   "outputs": [
    {
     "name": "stdout",
     "output_type": "stream",
     "text": [
      "   red  blue  green\n",
      "0  123     7     45\n",
      "1  124     3     47\n",
      "2  121     7     46\n",
      "3  128     6     56\n",
      "4  138    21     75\n"
     ]
    },
    {
     "data": {
      "image/png": "[encoded data removed]",
      "text/plain": [
       "<Figure size 432x288 with 1 Axes>"
      ]
     },
     "metadata": {},
     "output_type": "display_data"
    },
    {
     "name": "stderr",
     "output_type": "stream",
     "text": [
      "Clipping input data to the valid range for imshow with RGB data ([0..1] for floats or [0..255] for integers).\n"
     ]
    },
    {
     "data": {
      "image/png": "[encoded data removed]",
      "text/plain": [
       "<Figure size 432x288 with 1 Axes>"
      ]
     },
     "metadata": {},
     "output_type": "display_data"
    }
   ],
   "source": [
    "### import libraries\n",
    "import matplotlib.pyplot as plt\n",
    "import matplotlib.image as img\n",
    "import seaborn as sns\n",
    "import numpy as np\n",
    "import pandas as pd\n",
    "from scipy.cluster.vq import kmeans, vq\n",
    "from scipy.cluster.vq import whiten\n",
    "\n",
    "### Convert image to pixels:\n",
    "image = img.imread('images/bricks_lr.jpg')\n",
    "image.shape\n",
    "\n",
    "### Create blank lists\n",
    "r=[]\n",
    "g=[]\n",
    "b=[]\n",
    "\n",
    "### create temp array of values \n",
    "for row in image:\n",
    "    for pixel in row:\n",
    "        temp_r, temp_g, temp_b = pixel\n",
    "        r.append(temp_r)\n",
    "        g.append(temp_g)\n",
    "        b.append(temp_b)\n",
    "    \n",
    "### create pixel data frame  \n",
    "pixels = pd.DataFrame({'red': r,'blue': b,'green': g})\n",
    "print(pixels.head())\n",
    "\n",
    "### Scale values\n",
    "pixels['scaled_red'] = whiten(pixels['red'])\n",
    "pixels['scaled_green'] = whiten(pixels['green'])\n",
    "pixels['scaled_blue'] = whiten(pixels['blue'])\n",
    "\n",
    "### create empty list\n",
    "distortions = []\n",
    "num_clusters = range(1, 11)\n",
    "\n",
    "### Create a list of distortions from the kmeans method\n",
    "\n",
    "for i in num_clusters:\n",
    "    cluster_centers, distortion = kmeans(pixels[['scaled_red', 'scaled_blue','scaled_green']], i)\n",
    "    distortions.append(distortion)\n",
    "\n",
    "### Create a data frame with two lists - number of clusters and distortions\n",
    "\n",
    "elbow_plot = pd.DataFrame({'num_clusters': num_clusters, 'distortions': distortions})\n",
    "\n",
    "### Creat a line plot of num_clusters and distortions\n",
    "\n",
    "sns.lineplot(x='num_clusters', y='distortions', data = elbow_plot)\n",
    "plt.xticks(num_clusters)\n",
    "plt.show()\n",
    "\n",
    "### Find dominant colors\n",
    "cluster_centers, _ = kmeans(pixels[['scaled_red', 'scaled_blue', 'scaled_green']],10)\n",
    " \n",
    "### Create empty list   \n",
    "colors = []\n",
    "\n",
    "### Find Standard Deviations\n",
    "\n",
    "r_std, g_std, b_std = pixels[['red', 'blue', 'green']].std()\n",
    "\n",
    "### Scale actual RGB values in range of 0-1\n",
    "\n",
    "for cluster_center in cluster_centers:\n",
    "    scaled_r, scaled_g, scaled_b = cluster_center\n",
    "    colors.append((\n",
    "        scaled_r * r_std/255,\n",
    "        scaled_g * g_std/255,\n",
    "        scaled_b * b_std/255))\n",
    "        \n",
    "plt.imshow([colors]) \n",
    "plt.show()"
   ]
  },
  {
   "cell_type": "code",
   "execution_count": null,
   "metadata": {},
   "outputs": [],
   "source": []
  }
 ],
 "metadata": {
  "kernelspec": {
   "display_name": "Python 3",
   "language": "python",
   "name": "python3"
  },
  "language_info": {
   "codemirror_mode": {
    "name": "ipython",
    "version": 3
   },
   "file_extension": ".py",
   "mimetype": "text/x-python",
   "name": "python",
   "nbconvert_exporter": "python",
   "pygments_lexer": "ipython3",
   "version": "3.6.8"
  }
 },
 "nbformat": 4,
 "nbformat_minor": 2
}
