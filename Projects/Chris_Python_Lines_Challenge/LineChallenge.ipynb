{
 "cells": [
  {
   "cell_type": "markdown",
   "id": "caebddb6",
   "metadata": {},
   "source": [
    "# Background\n",
    "\n",
    "While visiting my brother, i noticed my neice had been drawing x,y plots as part of her gcse maths revision. As she is also studying IT, I asked if she could work out the values of y for a given value of x in 3 lines of python code. Challenge 1.\n",
    "\n",
    "Then my brother challenged me to write a code, so that if he gave me two sets of x,y co-ordinates for points on a straight line it would work out the folmula that describes that line? and then if he gave me a single set of x,y co-ordinates for a point on a line parallel to the first line, it would give him the formulae that would describe that line and finally it would generate co-ordinates for any 2 random points on that new line."
   ]
  },
  {
   "cell_type": "markdown",
   "id": "67d27713",
   "metadata": {},
   "source": [
    "# Challenge 1"
   ]
  },
  {
   "cell_type": "code",
   "execution_count": 319,
   "id": "3c846195",
   "metadata": {},
   "outputs": [
    {
     "name": "stdout",
     "output_type": "stream",
     "text": [
      "input an x co-ordinate\n",
      "for and x co-ordinate of 2 on a line y=2x+5, the y cordinate will be 9\n"
     ]
    }
   ],
   "source": [
    "# Callenge 1\n",
    "x=input(\"input an x co-ordinate\") or 2\n",
    "print(\"for and x co-ordinate of \"+ str(x) + \" on a line y=2x+5, the y cordinate will be \" + str(2*int(x)+5) )"
   ]
  },
  {
   "cell_type": "markdown",
   "id": "2496446e",
   "metadata": {},
   "source": [
    "# Challenge 1 for multiple values of x"
   ]
  },
  {
   "cell_type": "code",
   "execution_count": 318,
   "id": "b44138b5",
   "metadata": {},
   "outputs": [
    {
     "name": "stdout",
     "output_type": "stream",
     "text": [
      "input a list of x co-ordinates separated with spaces eg 2 4 6 \n",
      "for and x co-ordinate of 2 on a line y=2x+5, the y cordinate will be 9\n",
      "for and x co-ordinate of 4 on a line y=2x+5, the y cordinate will be 13\n",
      "for and x co-ordinate of 6 on a line y=2x+5, the y cordinate will be 17\n"
     ]
    }
   ],
   "source": [
    "# Challenge 1 for multiple values of x\n",
    "# input x co-ordinates\n",
    "xinput=input(\"input a list of x co-ordinates separated with spaces eg 2 4 6 \") or str(\"2 4 6\")\n",
    "xset=xinput.split()\n",
    "for i in range(len(xset)):\n",
    "    xset[i] = int(xset[i])\n",
    "\n",
    "# define function    \n",
    "def y_coordinates(xset):\n",
    "  for x in xset:\n",
    "        print(\"for and x co-ordinate of \"+ str(x) + \" on a line y=2x+5, the y cordinate will be \" + str(2*int(x)+5) )\n",
    "\n",
    "#call function on list of co-ordinates\n",
    "y_coordinates(xset)"
   ]
  },
  {
   "cell_type": "markdown",
   "id": "2bea74dc",
   "metadata": {},
   "source": [
    "## Get packages and define basic plot"
   ]
  },
  {
   "cell_type": "code",
   "execution_count": 316,
   "id": "079e1450",
   "metadata": {},
   "outputs": [],
   "source": [
    "import matplotlib.pyplot as plt\n",
    "import pandas as pd\n",
    "import numpy as np\n",
    "import random "
   ]
  },
  {
   "cell_type": "markdown",
   "id": "a3ba2f80",
   "metadata": {},
   "source": [
    "## Plot for Challenge 1"
   ]
  },
  {
   "cell_type": "code",
   "execution_count": 321,
   "id": "f06399c3",
   "metadata": {},
   "outputs": [
    {
     "name": "stdout",
     "output_type": "stream",
     "text": [
      "input an x co-ordinate\n",
      "for and x co-ordinate of 2 on a line y=2x+5, the y cordinate will be 9\n"
     ]
    },
    {
     "data": {
      "image/png": "[encoded data removed]",
      "text/plain": [
       "<Figure size 432x288 with 1 Axes>"
      ]
     },
     "metadata": {
      "needs_background": "light"
     },
     "output_type": "display_data"
    }
   ],
   "source": [
    "# generate line vales\n",
    "x = np.linspace(-5,5,2)\n",
    "y = 2*x+5\n",
    "\n",
    "# get marker co-ordinate value\n",
    "x1=input(\"input an x co-ordinate\") or 2\n",
    "y1=2*int(x1)+5\n",
    "print(\"for and x co-ordinate of \"+ str(x1) + \" on a line y=2x+5, the y cordinate will be \" + str(y1) )\n",
    "\n",
    "# plot line\n",
    "fig = plt.figure()\n",
    "ax = fig.add_subplot(1, 1, 1)\n",
    "ax.spines['left'].set_position('zero')\n",
    "ax.spines['bottom'].set_position('zero')\n",
    "ax.spines['right'].set_color('none')\n",
    "ax.spines['top'].set_color('none')\n",
    "ax.xaxis.set_ticks_position('bottom')\n",
    "ax.yaxis.set_ticks_position('left')\n",
    "ax.plot(x, y, label='y=2x+5')\n",
    "plt.title('Graph of y=2x+5')\n",
    "ax.legend()\n",
    "ax.plot(x1,y1, marker = 'X',ls='none', ms=20)\n",
    "plt.show()"
   ]
  },
  {
   "cell_type": "markdown",
   "id": "81695d72",
   "metadata": {},
   "source": [
    "# Challenge 2 : part 1\n",
    "Find the formula for a stright line plot from x,y co-ordinates of 2 points on that line. "
   ]
  },
  {
   "cell_type": "code",
   "execution_count": 324,
   "id": "9929643a",
   "metadata": {},
   "outputs": [
    {
     "name": "stdout",
     "output_type": "stream",
     "text": [
      "x and y cordinates for first point separated with a space\n",
      "x and y cordinates for second point separated with a space\n",
      "\n",
      " Line Solution is y=  2 x + 4\n"
     ]
    }
   ],
   "source": [
    "# Challenge 2 Part 1: derive formula that describes a line from 2 points on a line\n",
    "\n",
    "#get point 1\n",
    "firstpoint=input(\"x and y cordinates for first point separated with a space\") or \"1 6\"\n",
    "x1,y1=firstpoint.split(); #print(x1, y1)\n",
    "#get point 1\n",
    "secondpoint=input(\"x and y cordinates for second point separated with a space\") or '2 8'\n",
    "x2,y2=secondpoint.split(); #print(x2, y2)\n",
    "\n",
    "# calculate formula\n",
    "co1=[int(x1),int(x2)];co2=[int(y1),int(y2)]\n",
    "coefficients = np.polyfit(co1, co2, 1)\n",
    "polynomial = str(np.poly1d(coefficients))\n",
    "print(\"\\n Line Solution is y= \",(polynomial)[2:])"
   ]
  },
  {
   "cell_type": "markdown",
   "id": "1c6f874b",
   "metadata": {},
   "source": [
    "## Plot of challenge 2 : part 1"
   ]
  },
  {
   "cell_type": "code",
   "execution_count": 327,
   "id": "40819d1f",
   "metadata": {},
   "outputs": [
    {
     "data": {
      "image/png": "[encoded data removed]",
      "text/plain": [
       "<Figure size 432x288 with 1 Axes>"
      ]
     },
     "metadata": {
      "needs_background": "light"
     },
     "output_type": "display_data"
    }
   ],
   "source": [
    "#generate y value\n",
    "polysplit=polynomial.split(\" \")\n",
    "multiplier=float(polysplit[1])\n",
    "intercept=float(polysplit[4])\n",
    "y=multiplier * x + intercept\n",
    "\n",
    "#plot line and markers\n",
    "fig = plt.figure()\n",
    "ax = fig.add_subplot(1, 1, 1)\n",
    "ax.spines['left'].set_position('zero')\n",
    "ax.spines['bottom'].set_position('zero')\n",
    "ax.spines['right'].set_color('none')\n",
    "ax.spines['top'].set_color('none')\n",
    "ax.xaxis.set_ticks_position('bottom')\n",
    "ax.yaxis.set_ticks_position('left')\n",
    "lab=((polynomial)[2:])\n",
    "ax.plot(x, y,label=lab)\n",
    "ax.plot(float(x1),float(y1), marker = 'x',color='b',ls='none', ms=20)\n",
    "ax.plot(float(x2),float(y2), marker = 'x',color='g',ls='none', ms=20)\n",
    "plt.legend()\n",
    "plt.show()"
   ]
  },
  {
   "cell_type": "markdown",
   "id": "572941a0",
   "metadata": {},
   "source": [
    "# Challenge 2 : part 2\n",
    "\n",
    "Find the formula for a stright line plot from x,y co-ordinates of 1 point on a line parralel to the original. "
   ]
  },
  {
   "cell_type": "code",
   "execution_count": 291,
   "id": "2dcb7b83",
   "metadata": {},
   "outputs": [
    {
     "name": "stdout",
     "output_type": "stream",
     "text": [
      "x and y cordinates for new point separated with a space2 12\n",
      "8.0\n",
      "\n",
      " Line Solution is y=  2 x + 8\n"
     ]
    }
   ],
   "source": [
    "# Challenge 2 part 2: derive formula that describes a line from 2 points on a line\n",
    "\n",
    "#get point 1\n",
    "newpoint=input(\"x and y cordinates for new point separated with a space\") or \"3 18\"\n",
    "x3,y3=newpoint.split(); #print(x3, y3)\n",
    "\n",
    "y4= coefficients[0]*float(x3)+coefficients[1]\n",
    "newintercept=intercept-(round(float(y4)-float(y3),2))\n",
    "print(newintercept)\n",
    "\n",
    "# Generate additional co-ordinates values\n",
    "x5=random.randint(-5,5)\n",
    "y5=multiplier * x5 + int(newintercept)\n",
    "\n",
    "co3=[float(x3),float(x5)];co4=[float(y3),float(y5)]\n",
    "coefficients2 = np.polyfit(co3, co4, 1)\n",
    "polynomial2 = str(np.poly1d(coefficients2))\n",
    "print(\"\\n Line Solution is y= \",(polynomial2)[2:])"
   ]
  },
  {
   "cell_type": "markdown",
   "id": "bb34e2be",
   "metadata": {},
   "source": [
    "## Plot of Challenge 2 part 2"
   ]
  },
  {
   "cell_type": "code",
   "execution_count": 329,
   "id": "c89788e7",
   "metadata": {},
   "outputs": [
    {
     "data": {
      "image/png": "[encoded data removed]",
      "text/plain": [
       "<Figure size 432x288 with 1 Axes>"
      ]
     },
     "metadata": {
      "needs_background": "light"
     },
     "output_type": "display_data"
    }
   ],
   "source": [
    "# generate new y value\n",
    "newy=(multiplier * x) + newintercept\n",
    "# plot point and line\n",
    "fig = plt.figure()\n",
    "ax = fig.add_subplot(1, 1, 1)\n",
    "ax.spines['left'].set_position('zero')\n",
    "ax.spines['bottom'].set_position('zero')\n",
    "ax.spines['right'].set_color('none')\n",
    "ax.spines['top'].set_color('none')\n",
    "ax.xaxis.set_ticks_position('bottom')\n",
    "ax.yaxis.set_ticks_position('left')\n",
    "lab=((polynomial)[2:])\n",
    "ax.plot(x, y,label=lab)\n",
    "ax.plot(x, newy)\n",
    "ax.plot(float(x1),float(y1), marker = 'x',color='b',ls='none', ms=20)\n",
    "ax.plot(float(x2),float(y2), marker = 'x',color='g',ls='none', ms=20)\n",
    "ax.plot(float(x3),float(y3), marker = 'X',color='gold',ls='none', ms=20)\n",
    "plt.legend()\n",
    "plt.show()"
   ]
  },
  {
   "cell_type": "markdown",
   "id": "04270c8f",
   "metadata": {},
   "source": [
    "# Challenge 2 : part 3"
   ]
  },
  {
   "cell_type": "code",
   "execution_count": 332,
   "id": "846ca20f",
   "metadata": {},
   "outputs": [
    {
     "name": "stdout",
     "output_type": "stream",
     "text": [
      "Point 1 co-ordinates :  -1 6.0\n",
      "Point 2 co-ordinates :  5 18.0\n"
     ]
    }
   ],
   "source": [
    "# Challenge 2 part 3: generate 2 points on the new line\n",
    "\n",
    "# Generate 2 random x values\n",
    "x5=random.randint(-5,5)\n",
    "x6=random.randint(-5,5)\n",
    "# Generate y values from x values\n",
    "y5=multiplier * x5 + int(newintercept)\n",
    "y6=multiplier * x6 + int(newintercept)\n",
    "print(\"Point 1 co-ordinates : \",x5,y5)\n",
    "print(\"Point 2 co-ordinates : \",x6,y6)"
   ]
  },
  {
   "cell_type": "markdown",
   "id": "da6f1790",
   "metadata": {},
   "source": [
    "# Plot Challenge 2 part 3"
   ]
  },
  {
   "cell_type": "code",
   "execution_count": 333,
   "id": "0cde236b",
   "metadata": {},
   "outputs": [
    {
     "data": {
      "image/png": "[encoded data removed]",
      "text/plain": [
       "<Figure size 432x288 with 1 Axes>"
      ]
     },
     "metadata": {
      "needs_background": "light"
     },
     "output_type": "display_data"
    }
   ],
   "source": [
    "# generate new y value\n",
    "newy=multiplier * x + newintercept\n",
    "# Create plot \n",
    "fig = plt.figure()\n",
    "ax = fig.add_subplot(1, 1, 1)\n",
    "ax.spines['left'].set_position('zero')\n",
    "ax.spines['bottom'].set_position('zero')\n",
    "ax.spines['right'].set_color('none')\n",
    "ax.spines['top'].set_color('none')\n",
    "ax.xaxis.set_ticks_position('bottom')\n",
    "ax.yaxis.set_ticks_position('left')\n",
    "lab=((polynomial)[2:])\n",
    "ax.plot(x, y,label=lab)\n",
    "ax.plot(x, newy)\n",
    "ax.plot(int(x1),int(y1), marker = 'x',color='b',ls='none', ms=20)\n",
    "ax.plot(int(x2),int(y2), marker = 'x',color='g',ls='none', ms=20)\n",
    "ax.plot(int(x3),int(y3), marker = 'X',color='gold',ls='none', ms=20)\n",
    "ax.plot(int(x5),int(y5), marker = 'o',color='r',ls='none', ms=20)\n",
    "ax.plot(int(x6),int(y6), marker = 'o',color='r',ls='none', ms=20)\n",
    "plt.legend()\n",
    "plt.show()"
   ]
  },
  {
   "cell_type": "markdown",
   "id": "02b6acb1",
   "metadata": {},
   "source": [
    "## Challenge complete!!"
   ]
  }
 ],
 "metadata": {
  "kernelspec": {
   "display_name": "Python 3 (ipykernel)",
   "language": "python",
   "name": "python3"
  },
  "language_info": {
   "codemirror_mode": {
    "name": "ipython",
    "version": 3
   },
   "file_extension": ".py",
   "mimetype": "text/x-python",
   "name": "python",
   "nbconvert_exporter": "python",
   "pygments_lexer": "ipython3",
   "version": "3.9.7"
  }
 },
 "nbformat": 4,
 "nbformat_minor": 5
}
