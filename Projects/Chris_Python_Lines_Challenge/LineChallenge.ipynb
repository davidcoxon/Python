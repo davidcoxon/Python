{
 "cells": [
  {
   "cell_type": "markdown",
   "id": "df148488",
   "metadata": {},
   "source": [
    "# Background\n",
    "\n",
    "While visiting by yonger brother i noticed my neice had been drawing x,y plots on a sheet of paper as part of her gcse maths revision, as she is also studying IT, I asked if she could work out the values of y in 3 lines of python code. The first piece of code below shows how we achieved that.\n",
    "\n",
    "Then my brother challenged us by saying if he gave us two sets of x,y co-ordinates for points on a straight line could we work out the folmula that describes that line? and if he then gave us a single set of x,y co-ordinates for a point on a line parallel to our line could we give him the formulae that would represent that line and generate co-ordinates for any 2 points on that line. See the code below to see if we managed to successfully meet his challenge."
   ]
  },
  {
   "cell_type": "markdown",
   "id": "6a707e41",
   "metadata": {},
   "source": [
    "# Challenge 1"
   ]
  },
  {
   "cell_type": "code",
   "execution_count": 12,
   "id": "d58f96ff",
   "metadata": {},
   "outputs": [
    {
     "name": "stdout",
     "output_type": "stream",
     "text": [
      "input x co-ordinate-2\n",
      "for and x co-ordinate of -2 on a line y=2x+5, the y cordinate will be 1\n"
     ]
    }
   ],
   "source": [
    "# Callenge 1\n",
    "x=input(\"input an x co-ordinate\") or 2\n",
    "print(\"for and x co-ordinate of \"+ str(x) + \" on a line y=2x+5, the y cordinate will be \" + str(2*int(x)+5) )"
   ]
  },
  {
   "cell_type": "markdown",
   "id": "16b857e5",
   "metadata": {},
   "source": [
    "# Challenge 1 for multiple values of x"
   ]
  },
  {
   "cell_type": "code",
   "execution_count": 29,
   "id": "86c0f448",
   "metadata": {},
   "outputs": [
    {
     "name": "stdout",
     "output_type": "stream",
     "text": [
      "input a list of x co-ordinates separated with spaces eg 2 4 6 4 6 8\n",
      "for and x co-ordinate of 4 on a line y=2x+5, the y cordinate will be 13\n",
      "for and x co-ordinate of 6 on a line y=2x+5, the y cordinate will be 17\n",
      "for and x co-ordinate of 8 on a line y=2x+5, the y cordinate will be 21\n"
     ]
    }
   ],
   "source": [
    "# Challenge 1 for multiple values of x\n",
    "# input x co-ordinates\n",
    "xinput=input(\"input a list of x co-ordinates separated with spaces eg 2 4 6 \") or str(\"2 4 6\")\n",
    "xset=xinput.split()\n",
    "for i in range(len(xset)):\n",
    "    xset[i] = int(xset[i])\n",
    "\n",
    "# define function    \n",
    "def y_coordinates(xset):\n",
    "  for x in xset:\n",
    "        print(\"for and x co-ordinate of \"+ str(x) + \" on a line y=2x+5, the y cordinate will be \" + str(2*int(x)+5) )\n",
    "\n",
    "#call function on list of co-ordinates\n",
    "y_coordinates(xset)"
   ]
  },
  {
   "cell_type": "markdown",
   "id": "8e25f679",
   "metadata": {},
   "source": [
    "## Get packages"
   ]
  },
  {
   "cell_type": "code",
   "execution_count": 196,
   "id": "ea641ef0",
   "metadata": {},
   "outputs": [],
   "source": [
    "import matplotlib.pyplot as plt\n",
    "import pandas as pd\n",
    "import numpy as np\n",
    "import random "
   ]
  },
  {
   "cell_type": "markdown",
   "id": "e156c1ae",
   "metadata": {},
   "source": [
    "# Plot Challenge 1"
   ]
  },
  {
   "cell_type": "code",
   "execution_count": 144,
   "id": "83d167dc",
   "metadata": {},
   "outputs": [
    {
     "name": "stdout",
     "output_type": "stream",
     "text": [
      "input an x co-ordinate\n",
      "for and x co-ordinate of 2 on a line y=2x+5, the y cordinate will be 9\n"
     ]
    },
    {
     "data": {
      "image/png": "[encoded data removed]",
      "text/plain": [
       "<Figure size 432x288 with 1 Axes>"
      ]
     },
     "metadata": {
      "needs_background": "light"
     },
     "output_type": "display_data"
    }
   ],
   "source": [
    "# get x-co-ordinate value\n",
    "x1=input(\"input an x co-ordinate\") or 2\n",
    "y1=2*int(x1)+5\n",
    "print(\"for and x co-ordinate of \"+ str(x1) + \" on a line y=2x+5, the y cordinate will be \" + str(y1) )\n",
    "\n",
    "x = np.linspace(-5,5,2)\n",
    "y = 2*x+5\n",
    "\n",
    "fig = plt.figure()\n",
    "ax = fig.add_subplot(1, 1, 1)\n",
    "ax.spines['left'].set_position('zero')\n",
    "ax.spines['bottom'].set_position('zero')\n",
    "ax.spines['right'].set_color('none')\n",
    "ax.spines['top'].set_color('none')\n",
    "ax.xaxis.set_ticks_position('bottom')\n",
    "ax.yaxis.set_ticks_position('left')\n",
    "ax.plot(x, y, label='y=2x+5')\n",
    "plt.title('Graph of y=2x+5')\n",
    "ax.legend()\n",
    "ax.plot(x1,y1, marker = 'X',ls='none', ms=20)\n",
    "plt.show()"
   ]
  },
  {
   "cell_type": "markdown",
   "id": "ae29863b",
   "metadata": {},
   "source": [
    "# Challenge 2 : part 1\n",
    "Find the formula for a stright line plot from x,y co-ordinates of 2 points on that line. "
   ]
  },
  {
   "cell_type": "code",
   "execution_count": 281,
   "id": "c32ca01f",
   "metadata": {},
   "outputs": [
    {
     "name": "stdout",
     "output_type": "stream",
     "text": [
      "x and y cordinates for first point separated with a space\n",
      "x and y cordinates for second point separated with a space\n",
      "\n",
      " Line Solution is y=  2 x + 4\n"
     ]
    }
   ],
   "source": [
    "# Challenge 2 Part 1: derive formula that describes a line from 2 points on a line\n",
    "\n",
    "#get point 1\n",
    "firstpoint=input(\"x and y cordinates for first point separated with a space\") or \"1 6\"\n",
    "x1,y1=firstpoint.split(); #print(x1, y1)\n",
    "#get point 1\n",
    "secondpoint=input(\"x and y cordinates for second point separated with a space\") or '2 8'\n",
    "x2,y2=secondpoint.split(); #print(x2, y2)\n",
    "\n",
    "# calculate formula\n",
    "co1=[int(x1),int(x2)];co2=[int(y1),int(y2)]\n",
    "coefficients = np.polyfit(co1, co2, 1)\n",
    "polynomial = str(np.poly1d(coefficients))\n",
    "print(\"\\n Line Solution is y= \",(polynomial)[2:])"
   ]
  },
  {
   "cell_type": "markdown",
   "id": "a517e037",
   "metadata": {},
   "source": [
    "## Plot of challenge 2 : part 1"
   ]
  },
  {
   "cell_type": "code",
   "execution_count": 283,
   "id": "19e753df",
   "metadata": {},
   "outputs": [
    {
     "data": {
      "image/png": "[encoded data removed]",
      "text/plain": [
       "<Figure size 432x288 with 1 Axes>"
      ]
     },
     "metadata": {
      "needs_background": "light"
     },
     "output_type": "display_data"
    }
   ],
   "source": [
    "### x = np.linspace(-5,5,2)\n",
    "polysplit=polynomial.split(\" \")\n",
    "multiplier=float(polysplit[1])\n",
    "intercept=float(polysplit[4])\n",
    "y=multiplier * x + intercept\n",
    "\n",
    "fig = plt.figure()\n",
    "ax = fig.add_subplot(1, 1, 1)\n",
    "ax.spines['left'].set_position('zero')\n",
    "ax.spines['bottom'].set_position('zero')\n",
    "ax.spines['right'].set_color('none')\n",
    "ax.spines['top'].set_color('none')\n",
    "ax.xaxis.set_ticks_position('bottom')\n",
    "ax.yaxis.set_ticks_position('left')\n",
    "lab=((polynomial)[2:])\n",
    "ax.plot(x, y,label=lab)\n",
    "ax.plot(float(x1),float(y1), marker = 'x',ls='none', ms=20)\n",
    "ax.plot(float(x2),float(y2), marker = 'x',ls='none', ms=20)\n",
    "plt.legend()\n",
    "plt.show()"
   ]
  },
  {
   "cell_type": "markdown",
   "id": "92eb2a47",
   "metadata": {},
   "source": [
    "# Challenge 2 : part 2\n",
    "\n",
    "Find the formula for a stright line plot from x,y co-ordinates of 1 point on a line parralel to the original. "
   ]
  },
  {
   "cell_type": "code",
   "execution_count": 284,
   "id": "5e207790",
   "metadata": {},
   "outputs": [
    {
     "name": "stdout",
     "output_type": "stream",
     "text": [
      "x and y cordinates for new point separated with a space\n",
      "12.0\n",
      "\n",
      " Line Solution is y=  2 x + 12\n"
     ]
    }
   ],
   "source": [
    "# Challenge 2 part 2: derive formula that describes a line from 2 points on a line\n",
    "\n",
    "#get point 1\n",
    "newpoint=input(\"x and y cordinates for new point separated with a space\") or \"3 18\"\n",
    "x3,y3=newpoint.split(); #print(x3, y3)\n",
    "\n",
    "y4= coefficients[0]*float(x3)+coefficients[1]\n",
    "newintercept=intercept-(round(float(y4)-float(y3),2))\n",
    "print(newintercept)\n",
    "\n",
    "# Generate additional co-ordinates values\n",
    "x5=random.randint(-5,5)\n",
    "y5=multiplier * x5 + int(newintercept)\n",
    "\n",
    "co3=[float(x3),float(x5)];co4=[float(y3),float(y5)]\n",
    "coefficients2 = np.polyfit(co3, co4, 1)\n",
    "polynomial2 = str(np.poly1d(coefficients2))\n",
    "print(\"\\n Line Solution is y= \",(polynomial2)[2:])"
   ]
  },
  {
   "cell_type": "markdown",
   "id": "ba2423fc",
   "metadata": {},
   "source": [
    "## Plot of Challenge 2 part 2"
   ]
  },
  {
   "cell_type": "code",
   "execution_count": 285,
   "id": "bc5c0608",
   "metadata": {},
   "outputs": [
    {
     "data": {
      "image/png": "[encoded data removed]",
      "text/plain": [
       "<Figure size 432x288 with 1 Axes>"
      ]
     },
     "metadata": {
      "needs_background": "light"
     },
     "output_type": "display_data"
    }
   ],
   "source": [
    "# generate \n",
    "newy=(multiplier * x) + newintercept\n",
    "# plot point abd line\n",
    "fig = plt.figure()\n",
    "ax = fig.add_subplot(1, 1, 1)\n",
    "ax.spines['left'].set_position('zero')\n",
    "ax.spines['bottom'].set_position('zero')\n",
    "ax.spines['right'].set_color('none')\n",
    "ax.spines['top'].set_color('none')\n",
    "ax.xaxis.set_ticks_position('bottom')\n",
    "ax.yaxis.set_ticks_position('left')\n",
    "lab=((polynomial)[2:])\n",
    "ax.plot(x, y,label=lab)\n",
    "ax.plot(x, newy)\n",
    "ax.plot(float(x1),float(y1), marker = 'x',ls='none', ms=20)\n",
    "ax.plot(float(x2),float(y2), marker = 'x',ls='none', ms=20)\n",
    "ax.plot(float(x3),float(y3), marker = 'o',ls='none', ms=20)\n",
    "\n",
    "plt.legend()\n",
    "plt.show()"
   ]
  },
  {
   "cell_type": "markdown",
   "id": "d525bf61",
   "metadata": {},
   "source": [
    "# Challenge 2 : part 3"
   ]
  },
  {
   "cell_type": "code",
   "execution_count": 286,
   "id": "6fa29bb5",
   "metadata": {},
   "outputs": [
    {
     "name": "stdout",
     "output_type": "stream",
     "text": [
      "2 16.0\n",
      "-1 10.0\n"
     ]
    }
   ],
   "source": [
    "# Challenge 2 part 3: generate 2 points on the new line\n",
    "\n",
    "# Generate 2 random x values\n",
    "x5=random.randint(-5,5)\n",
    "x6=random.randint(-5,5)\n",
    "\n",
    "y5=multiplier * x5 + int(newintercept)\n",
    "y6=multiplier * x6 + int(newintercept)\n",
    "print(x5,y5)\n",
    "print(x6,y6)"
   ]
  },
  {
   "cell_type": "markdown",
   "id": "2656c4b4",
   "metadata": {},
   "source": [
    "# Plot Challenge 2 part 3"
   ]
  },
  {
   "cell_type": "code",
   "execution_count": 287,
   "id": "4a89eff7",
   "metadata": {},
   "outputs": [
    {
     "data": {
      "image/png": "[encoded data removed]",
      "text/plain": [
       "<Figure size 432x288 with 1 Axes>"
      ]
     },
     "metadata": {
      "needs_background": "light"
     },
     "output_type": "display_data"
    }
   ],
   "source": [
    "# generate \n",
    "newy=multiplier * x + newintercept\n",
    "# plot point abd line\n",
    "fig = plt.figure()\n",
    "ax = fig.add_subplot(1, 1, 1)\n",
    "ax.spines['left'].set_position('zero')\n",
    "ax.spines['bottom'].set_position('zero')\n",
    "ax.spines['right'].set_color('none')\n",
    "ax.spines['top'].set_color('none')\n",
    "ax.xaxis.set_ticks_position('bottom')\n",
    "ax.yaxis.set_ticks_position('left')\n",
    "lab=((polynomial)[2:])\n",
    "ax.plot(x, y,label=lab)\n",
    "ax.plot(x, newy)\n",
    "ax.plot(int(x1),int(y1), marker = 'x',ls='none', ms=20)\n",
    "ax.plot(int(x2),int(y2), marker = 'x',ls='none', ms=20)\n",
    "ax.plot(int(x3),int(y3), marker = 'X',ls='none', ms=20)\n",
    "ax.plot(int(x5),int(y5), marker = 'o',ls='none', ms=20)\n",
    "ax.plot(int(x6),int(y6), marker = 'o',ls='none', ms=20)\n",
    "\n",
    "plt.legend()\n",
    "plt.show()"
   ]
  },
  {
   "cell_type": "markdown",
   "id": "2563725e",
   "metadata": {},
   "source": [
    "## Challenge complete!!"
   ]
  },
  {
   "cell_type": "code",
   "execution_count": null,
   "id": "3634bfbe",
   "metadata": {},
   "outputs": [],
   "source": []
  }
 ],
 "metadata": {
  "kernelspec": {
   "display_name": "Python 3 (ipykernel)",
   "language": "python",
   "name": "python3"
  },
  "language_info": {
   "codemirror_mode": {
    "name": "ipython",
    "version": 3
   },
   "file_extension": ".py",
   "mimetype": "text/x-python",
   "name": "python",
   "nbconvert_exporter": "python",
   "pygments_lexer": "ipython3",
   "version": "3.9.7"
  }
 },
 "nbformat": 4,
 "nbformat_minor": 5
}
