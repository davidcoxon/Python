{
 "cells": [
  {
   "cell_type": "markdown",
   "metadata": {},
   "source": [
    "# Classifiers\n",
    "\n",
    "In statistics and machine learning, classifiers are models that try to identifying which categories (sub-populations) a new observation belongs, on the basis of a training set of data containing observations (or instances) whose category membership is known.\n",
    "\n",
    "Classifiers takes unlabbed data as in input and outputs a label.\n",
    "\n",
    "## Binary Classifiers\n",
    "\n",
    "A Binary Classifier is a classifier with only 2 categories. For example a Clasifier which returns \"True\" or \"False\" , \"Accept\" or \"Decline\", \"Malignent\" or \"Benign\".\n",
    "\n",
    "## Decision Boundary\n",
    "\n",
    "- a decision Boundary is a line that separates areas into different classes.\n",
    "\n",
    "In its simplest form a decision boundary separated classes with 2 features , but decision boundaries can be gerated for more features a decision boundary for 5 features would be in 5 dimensional space which would be difficult to draw or visualise.\n",
    "\n",
    "## Linearly Separable\n",
    "\n",
    "- a dataset is said to be Linearly separable if it can be perfectly explained by a linear classifier.\n",
    "\n",
    "## Linear Decision Boundaries\n",
    "\n",
    "A Linear decision boundary is a decision boundary which is in the form of a straight line dividing the classes.\n",
    "\n",
    "## Nonlinear decision boundaries\n",
    "\n",
    "A NonLinear decision boundaries is a decision boundary that does not form a straight line, it could be a smooth curve, a wave, a circle a square or a random shape. \n",
    "\n",
    "A nonlinear decision boundary may be none continuous"
   ]
  },
  {
   "cell_type": "markdown",
   "metadata": {},
   "source": [
    "## Sample Data\n",
    "\n",
    "There are lots of classic classification datasets that have been used to illustrate."
   ]
  },
  {
   "cell_type": "markdown",
   "metadata": {},
   "source": [
    "## Breast Cancer Dataset\n",
    "\n",
    "569 datapoints with 32 columns, each data point can be classified as Malignant (m) or Benign (b).\n",
    "\n",
    "From the Wisconsin Breast Cancer Dataset from the UCI machine learning repository.\n",
    "\n",
    "https://www.kaggle.com/uciml/breast-cancer-wisconsin-data\n",
    "\n",
    "You can predict whether a tumor is malignant or benign based on the features in the dataset. You can even make reasonable predictions on as few as two of the features: the mean radius of the tumor (radius_mean) and its mean number of concave points (concave points_mean)."
   ]
  },
  {
   "cell_type": "code",
   "execution_count": null,
   "metadata": {},
   "outputs": [],
   "source": [
    "# import libraries\n",
    "import pandas as pd\n",
    "import numpy as np\n",
    "\n",
    "# import data\n",
    "df=pd.read_csv('Data/breast_cancer_data.csv')\n",
    "print(df.describe())\n",
    "\n",
    "# create X and y data\n",
    "X=df[['radius_mean','concave points_mean']]\n",
    "y=df[['results']]\n",
    "#y= y.values\n",
    "#y = y.ravel()\n",
    "\n",
    "print(X.shape)\n",
    "print(y.shape)\n",
    "\n",
    "# set random seed\n",
    "SEED=np.random.seed(seed=100)\n",
    "\n",
    "# Split data into 70% train and 30% test\n",
    "X_train, X_test, y_train, y_test = train_test_split(X,y,test_size=0.3, random_state=SEED)"
   ]
  },
  {
   "cell_type": "markdown",
   "metadata": {},
   "source": [
    "## Indian Liver Patient dataset\n",
    "\n",
    "583 observations (rows) with 10 dimensions (columns), each observation can be classified as patient or not a patient (1 or 2).\n",
    "\n",
    "From the Indian Liver Patient dataset from the UCI machine learning repository. \n",
    "\n",
    "https://www.kaggle.com/uciml/indian-liver-patient-records"
   ]
  },
  {
   "cell_type": "code",
   "execution_count": null,
   "metadata": {},
   "outputs": [],
   "source": [
    "# import libraries\n",
    "import pandas as pd\n",
    "import numpy as np\n",
    "from sklearn.model_selection import train_test_split\n",
    "\n",
    "# import Data\n",
    "df2=pd.read_csv('data/indian_liver_patient_data.csv')\n",
    "\n",
    "X2=df2[['age','is_male','tot_bilirubin','direct_bilirubin','tot_proteins','albumin','ag_ratio','sgpt','sgot']]\n",
    "y2=df2[['is_patient']]\n",
    "y2= y2.values\n",
    "y2 = y2.ravel()\n",
    "\n",
    "print(df2.describe())\n",
    "print(y2.shape)\n",
    "print(X2.shape)\n",
    "\n",
    "# set random seed\n",
    "SEED=np.random.seed(seed=90)\n",
    "\n",
    "# Split data into 70% train and 30% test\n",
    "X_train2, X_test2, y_train2, y_test2 = train_test_split(X2,y2,test_size=0.3, random_state=SEED)"
   ]
  },
  {
   "cell_type": "markdown",
   "metadata": {},
   "source": [
    "## Iris dataset\n",
    "\n",
    "150 observations(rows), and 4 dimensions (columns) each observation can be classified into 1 or 3 classifications of Iris variety.\n",
    "\n",
    "The Iris dataset is built into the Sklearn library\n",
    "\n",
    "https://scikit-learn.org/stable/modules/generated/sklearn.datasets.load_iris.html"
   ]
  },
  {
   "cell_type": "code",
   "execution_count": 83,
   "metadata": {},
   "outputs": [
    {
     "name": "stdout",
     "output_type": "stream",
     "text": [
      "(150, 4)\n",
      "(150,)\n"
     ]
    }
   ],
   "source": [
    "# import libraries\n",
    "import pandas as pd\n",
    "import numpy as np\n",
    "from sklearn import datasets\n",
    "from sklearn.model_selection import train_test_split\n",
    "\n",
    "# import data\n",
    "df3 = datasets.load_iris()\n",
    "\n",
    "X= df3['data']\n",
    "y= df3['target']\n",
    "\n",
    "print(X.shape)\n",
    "print(y.shape)\n",
    "\n",
    "# set random seed\n",
    "SEED=np.random.seed(seed=1)\n",
    "\n",
    "# Split data into 70% train and 30% test\n",
    "X_train, X_test, y_train, y_test = train_test_split(X,y,test_size=0.3, random_state=SEED)"
   ]
  },
  {
   "cell_type": "code",
   "execution_count": 84,
   "metadata": {},
   "outputs": [
    {
     "data": {
      "image/png": "[encoded data removed]",
      "text/plain": [
       "<Figure size 432x288 with 1 Axes>"
      ]
     },
     "metadata": {},
     "output_type": "display_data"
    }
   ],
   "source": [
    "# import Libraries\n",
    "import matplotlib.pyplot as plt\n",
    "import pylab\n",
    "\n",
    "# Plot the training data\n",
    "xs = X_train[:,0]\n",
    "ys = X_train[:,2]\n",
    "plt.scatter(xs, ys,alpha=0.2, c=y_train)\n",
    "pylab.savefig('Graphs/trainresults.png')\n",
    "\n",
    "# Plot the test data\n",
    "xs = X_test[:,0]\n",
    "ys = X_test[:,2]\n",
    "plt.scatter(xs, ys, c=y_test)\n",
    "pylab.savefig('Graphs/testresults.png')\n",
    "\n",
    "plt.show()"
   ]
  },
  {
   "cell_type": "markdown",
   "metadata": {},
   "source": [
    "# The Classifiers - Supervised Learning"
   ]
  },
  {
   "cell_type": "markdown",
   "metadata": {},
   "source": [
    "# Support Vector Machines"
   ]
  },
  {
   "cell_type": "markdown",
   "metadata": {},
   "source": [
    "## Linear SVC\n",
    "\n",
    "In sklearn LinearSVC **Linear support vector classifier** works in the same way as the **logistic regression classifier.**\n",
    "\n",
    "##Key hyperparameters in sklearn:¶\n",
    "\n",
    "C (inverse regularization strength) - the smaller c the more regularization\n",
    "\n",
    "kernel (type of kernel)\n",
    "\n",
    "gamma (inverse smoothness) - only applied to the rbf kernel and the smaller gamma the smoother the decision boundary."
   ]
  },
  {
   "cell_type": "code",
   "execution_count": 11,
   "metadata": {},
   "outputs": [
    {
     "name": "stdout",
     "output_type": "stream",
     "text": [
      "[1 0 0 2 2 0 1 2 0 2 2 0 2 2 0 2 2 0 1 1 1 2 2 0 1 1 2 2 2 0 0 0 1 2 0 2 2\n",
      " 2 1 0 2 2 0 0 0]\n",
      "['versicolor' 'setosa' 'setosa' 'virginica' 'virginica' 'setosa'\n",
      " 'versicolor' 'virginica' 'setosa' 'virginica' 'virginica' 'setosa'\n",
      " 'virginica' 'virginica' 'setosa' 'virginica' 'virginica' 'setosa'\n",
      " 'versicolor' 'versicolor' 'versicolor' 'virginica' 'virginica' 'setosa'\n",
      " 'versicolor' 'versicolor' 'virginica' 'virginica' 'virginica' 'setosa'\n",
      " 'setosa' 'setosa' 'versicolor' 'virginica' 'setosa' 'virginica'\n",
      " 'virginica' 'virginica' 'versicolor' 'setosa' 'virginica' 'virginica'\n",
      " 'setosa' 'setosa' 'setosa']\n",
      "Accuracy of linear SVC on training set: 0.97\n",
      "Accuracy of linear svc on test data: 0.956\n"
     ]
    },
    {
     "data": {
      "image/png": "[encoded data removed]",
      "text/plain": [
       "<Figure size 432x288 with 1 Axes>"
      ]
     },
     "metadata": {},
     "output_type": "display_data"
    }
   ],
   "source": [
    "## Linear SVC for iris dataset ##\n",
    "\n",
    "\n",
    "# import libraries\n",
    "import pandas as pd\n",
    "import numpy as np\n",
    "import matplotlib.pyplot as plt\n",
    "import pylab\n",
    "from sklearn.svm import LinearSVC\n",
    "from sklearn.metrics import accuracy_score\n",
    "\n",
    "# instanciate model\n",
    "clf = LinearSVC(penalty='l2', loss='squared_hinge',\n",
    "                dual=True, tol=0.0001, C=100, multi_class='ovr',\n",
    "                fit_intercept=True, intercept_scaling=1, class_weight=None,verbose=0\n",
    "                , random_state=0, max_iter=1000)\n",
    "\n",
    "#fit model\n",
    "clf.fit(X_train,y_train)\n",
    "\n",
    "# predict\n",
    "y_predc=clf.predict(X_test)\n",
    "\n",
    "#print results\n",
    "print(y_pred)\n",
    "print(df3.target_names[y_pred])\n",
    "\n",
    "# Evaluate and print test-set accuracy\n",
    "accuracy = accuracy_score(y_test, y_pred)\n",
    "print('Accuracy of linear SVC on training set: {:.2f}'.format(clf.score(X_train, y_train)))\n",
    "print('Accuracy of linear svc on test data: {:.3f}'.format(accuracy))\n",
    "\n",
    "# Plot the results\n",
    "xc = X_test[:,0]\n",
    "yc = X_test[:,2]\n",
    "plt.scatter(xc, yc, c=y_predc)\n",
    "pylab.savefig('Graphs/linearsvc.png')\n",
    "plt.show()"
   ]
  },
  {
   "cell_type": "markdown",
   "metadata": {},
   "source": [
    "## Non Linear SVC"
   ]
  },
  {
   "cell_type": "code",
   "execution_count": 12,
   "metadata": {},
   "outputs": [
    {
     "name": "stdout",
     "output_type": "stream",
     "text": [
      "Number of original examples 105\n",
      "Number of support vectors 22\n",
      "[1 0 0 2 2 0 1 2 0 2 2 0 2 2 0 2 2 0 1 1 1 2 2 0 1 1 2 2 2 0 0 0 2 2 0 2 2\n",
      " 2 1 0 2 2 0 0 0]\n",
      "['versicolor' 'setosa' 'setosa' 'virginica' 'virginica' 'setosa'\n",
      " 'versicolor' 'virginica' 'setosa' 'virginica' 'virginica' 'setosa'\n",
      " 'virginica' 'virginica' 'setosa' 'virginica' 'virginica' 'setosa'\n",
      " 'versicolor' 'versicolor' 'versicolor' 'virginica' 'virginica' 'setosa'\n",
      " 'versicolor' 'versicolor' 'virginica' 'virginica' 'virginica' 'setosa'\n",
      " 'setosa' 'setosa' 'virginica' 'virginica' 'setosa' 'virginica'\n",
      " 'virginica' 'virginica' 'versicolor' 'setosa' 'virginica' 'virginica'\n",
      " 'setosa' 'setosa' 'setosa']\n",
      "Accuracy of SVC on training set: 1.00\n",
      "Accuracy of SVC on test data: 0.978\n"
     ]
    },
    {
     "data": {
      "image/png": "[encoded data removed]",
      "text/plain": [
       "<Figure size 432x288 with 1 Axes>"
      ]
     },
     "metadata": {},
     "output_type": "display_data"
    }
   ],
   "source": [
    "## SVC for iris dataset ##\n",
    "\n",
    "# import libraries\n",
    "import pandas as pd\n",
    "import numpy as np\n",
    "import matplotlib.pyplot as plt\n",
    "import pylab\n",
    "from sklearn.linear_model import LogisticRegression\n",
    "from sklearn.svm import SVC\n",
    "from sklearn.metrics import accuracy_score\n",
    "\n",
    "plt.style.use('ggplot')\n",
    "\n",
    "# Instanciate classifier\n",
    "svm = SVC(kernel=\"linear\")\n",
    "\n",
    "# Train a linear SVM\n",
    "svm.fit(X_train,y_train)\n",
    "\n",
    "# Make a new data set keeping only the support vectors\n",
    "print(\"Number of original examples\", len(X_train))\n",
    "print(\"Number of support vectors\", len(svm.support_))\n",
    "X_small = X_train[svm.support_]\n",
    "y_small = y_train[svm.support_]\n",
    "\n",
    "# Train a new SVM using only the support vectors\n",
    "svm_small = SVC(kernel=\"linear\")\n",
    "svm_small.fit(X_test,y_test)\n",
    "\n",
    "# predict labels\n",
    "y_pred=svm_small.predict(X_test)\n",
    "\n",
    "#print results\n",
    "print(y_pred)\n",
    "print(df3.target_names[y_pred])\n",
    "\n",
    "# Evaluate and print test-set accuracy\n",
    "accuracy = accuracy_score(y_test, y_pred)\n",
    "print('Accuracy of SVC on training set: {:.2f}'.format(svm.score(X_train, y_train)))\n",
    "print('Accuracy of SVC on test data: {:.3f}'.format(accuracy))\n",
    "\n",
    "# Plot the results\n",
    "xs = X_test[:,0]\n",
    "ys = X_test[:,2]\n",
    "plt.scatter(xs, ys, c=y_pred)\n",
    "pylab.savefig('Graphs/svm.png')\n",
    "plt.show()"
   ]
  },
  {
   "cell_type": "markdown",
   "metadata": {},
   "source": [
    "# Logistic Regression\n",
    "\n",
    "The logistic function, also called the sigmoid function was developed by statisticians to describe properties of population growth in ecology. It’s an S-shaped curve that can take any real-valued number and map it into a value between 0 and 1, but never exactly at those limits.\n",
    "\n",
    "Logistic regression uses an equation to describe its shape, very much like an equation in used to represent the line of a linear regression.\n",
    "\n",
    "Input values (x) are combined linearly using weights or coefficient values (referred to as the Greek capital letter Beta) to predict an output value (y). A key difference from linear regression is that the output value being modeled is a binary values (0 or 1) rather than a numeric value.\n",
    "\n",
    "Below is an example logistic regression equation:\n",
    "\n",
    "y = e^(b0 + b1*x) / (1 + e^(b0 + b1*x))\n",
    "\n",
    "Where y is the predicted output, b0 is the bias or intercept term and b1 is the coefficient for the single input value (x). Each column in your input data has an associated b coefficient (a constant real value) that must be learned from your training data.\n",
    "\n",
    "### Logistic Regression Predicts Probabilities.\n",
    "\n",
    "Logistic regression models are binary classifiers that calculate the probability of the default class (e.g. the first class).\n",
    "\n",
    "### Maximum likelihood estimation\n",
    "\n",
    "The regression coefficients are usually estimated using maximum likelihood estimation.[26] Unlike linear regression with normally distributed residuals, it is not possible to find a closed-form expression for the coefficient values that maximize the likelihood function, so that an iterative process must be used instead; for example Newton's method. This process begins with a tentative solution, revises it slightly to see if it can be improved, and repeats this revision until no more improvement is made, at which point the process is said to have converged\n",
    "\n",
    "### Least squares: the squared loss\n",
    "\n",
    "SKLearn LinearRegression minimizes a loss using the least squares method which sums all the the squares of the errors where the error is the difference between the value and the predicted value.\n",
    "\n",
    "\n",
    "## Regularization\n",
    "\n",
    "When fitting a model to training data there is a danger that if you try to over optomise the model you can overfit the training data, in this case the model will score very highly on the specific training data but not as well on test data fit Regularization is a method of preventing over fitting of a model, so that it performs optimally on unseen data.\n",
    "\n",
    "## L1 vs. L2 regularization\n",
    "\n",
    "Lasso = linear regression with L1 regularization Ridge = linear regression with L2 regularization\n",
    "\n",
    "For other models like logistic regression we just say L1, L2, etc.\n",
    "\n",
    "### Tips on preparing data for best results\n",
    "\n",
    "Remove Noise: Logistic regression assumes no error in the output variable (y), consider removing outliers and possibly misclassified instances from your training data.\n",
    "\n",
    "Gaussian Distribution: Logistic regression is a linear algorithm (with a non-linear transform on output). It does assume a linear relationship between the input variables with the output. Data transforms of your input variables that better expose this linear relationship can result in a more accurate model. For example, you can use log, root, Box-Cox and other univariate transforms to better expose this relationship.\n",
    "\n",
    "Remove Correlated Inputs: Like linear regression, the model can overfit if you have multiple highly-correlated inputs. Consider calculating the pairwise correlations between all inputs and removing highly correlated inputs.\n",
    "\n",
    "Fail to Converge: It is possible for the expected likelihood estimation process that learns the coefficients to fail to converge. This can happen if there are many highly correlated inputs in your data or the data is very sparse (e.g. lots of zeros in your input data).\n",
    "\n",
    "## Key hyperparameters in sklearn:\n",
    "\n",
    "C (inverse regularization strength) - the smaller c the more regularization\n",
    "\n",
    "penalty (type of regularization) - L1 and L2 are supported\n",
    "\n",
    "multi_class (type of multi-class)"
   ]
  },
  {
   "cell_type": "code",
   "execution_count": 50,
   "metadata": {},
   "outputs": [
    {
     "name": "stdout",
     "output_type": "stream",
     "text": [
      "[1 0 0 2 2 0 1 2 0 2 2 0 2 2 0 2 1 0 1 1 1 2 2 0 1 1 2 2 2 0 0 0 2 2 0 2 2\n",
      " 2 1 0 2 2 0 0 0]\n",
      "['versicolor' 'setosa' 'setosa' 'virginica' 'virginica' 'setosa'\n",
      " 'versicolor' 'virginica' 'setosa' 'virginica' 'virginica' 'setosa'\n",
      " 'virginica' 'virginica' 'setosa' 'virginica' 'versicolor' 'setosa'\n",
      " 'versicolor' 'versicolor' 'versicolor' 'virginica' 'virginica' 'setosa'\n",
      " 'versicolor' 'versicolor' 'virginica' 'virginica' 'virginica' 'setosa'\n",
      " 'setosa' 'setosa' 'virginica' 'virginica' 'setosa' 'virginica'\n",
      " 'virginica' 'virginica' 'versicolor' 'setosa' 'virginica' 'virginica'\n",
      " 'setosa' 'setosa' 'setosa']\n",
      "Accuracy of Logistic Regressiom on training data: 0.981\n",
      "Accuracy of Logistic Regressiom: 0.956\n"
     ]
    },
    {
     "data": {
      "image/png": "[encoded data removed]",
      "text/plain": [
       "<Figure size 432x288 with 1 Axes>"
      ]
     },
     "metadata": {},
     "output_type": "display_data"
    }
   ],
   "source": [
    "## Logistic Regression ##\n",
    "\n",
    "# import libraries\n",
    "import pandas as pd\n",
    "import numpy as np\n",
    "import matplotlib.pyplot as plt\n",
    "import pylab\n",
    "from sklearn.linear_model import LogisticRegression\n",
    "from sklearn.metrics import accuracy_score\n",
    "\n",
    "# instanciate model\n",
    "lr = LogisticRegression(C=1)\n",
    "\n",
    "# fit model\n",
    "lr.fit(X_train, y_train)\n",
    "\n",
    "# make predictions\n",
    "y_pred=lr.predict(X_test)\n",
    "\n",
    "# evaluate predictions\n",
    "lr.score(X_test, y_test)\n",
    "\n",
    "# print predictions\n",
    "print(y_pred)\n",
    "print(df3.target_names[y_pred])\n",
    "\n",
    "# Evaluate and print test-set accuracy\n",
    "accuracy_train = accuracy_score(y_train, y_pred_train)\n",
    "# Evaluate and print test-set accuracy\n",
    "accuracy = accuracy_score(y_test, y_pred)\n",
    "\n",
    "print('Accuracy of Logistic Regressiom on training data: {:.3f}'.format(accuracy_train))\n",
    "print('Accuracy of Logistic Regressiom: {:.3f}'.format(accuracy))\n",
    "\n",
    "# Plot the results\n",
    "xs = X_test[:,0]\n",
    "ys = X_test[:,2]\n",
    "plt.scatter(xs, ys, c=y_pred)\n",
    "pylab.savefig('Graphs/logisticregression.png')\n",
    "plt.show()"
   ]
  },
  {
   "cell_type": "markdown",
   "metadata": {},
   "source": [
    "## Multi-class logistic regression\n",
    "\n",
    "While Logistic regression is used for Binary Classification we can also used Sklearn to perform Multi-class classification (multiclass classification involves having 2 or more classes). There are several ways that logistic regression can accomplish this, for example one-versus-rest or multinomial/softmax.\n",
    "\n",
    "### one-vs-rest\n",
    "\n",
    "With one-versus-rest you create a range of binary classifiers one for each possible classification. Each classifier asks is the data point in this category yes or not in this category, you then compare the results of each of this classifiers and go with the classifier with the highest score."
   ]
  },
  {
   "cell_type": "code",
   "execution_count": 44,
   "metadata": {},
   "outputs": [
    {
     "name": "stdout",
     "output_type": "stream",
     "text": [
      "Compare outputs\n",
      "4.123770834319505\n",
      "-1.8610170150612242\n",
      "-11.322595276864728\n",
      "[1 0 0 2 2 0 1 2 0 2 2 0 2 2 0 2 1 0 1 1 1 2 2 0 1 1 2 2 2 0 0 0 2 2 0 2 2\n",
      " 2 1 0 2 2 0 0 0]\n",
      "['versicolor' 'setosa' 'setosa' 'virginica' 'virginica' 'setosa'\n",
      " 'versicolor' 'virginica' 'setosa' 'virginica' 'virginica' 'setosa'\n",
      " 'virginica' 'virginica' 'setosa' 'virginica' 'versicolor' 'setosa'\n",
      " 'versicolor' 'versicolor' 'versicolor' 'virginica' 'virginica' 'setosa'\n",
      " 'versicolor' 'versicolor' 'virginica' 'virginica' 'virginica' 'setosa'\n",
      " 'setosa' 'setosa' 'virginica' 'virginica' 'setosa' 'virginica'\n",
      " 'virginica' 'virginica' 'versicolor' 'setosa' 'virginica' 'virginica'\n",
      " 'setosa' 'setosa' 'setosa']\n",
      "Accuracy of Logistic Regressiom on training data: 0.981\n",
      "Accuracy of Logistic Regressiom: 0.956\n"
     ]
    },
    {
     "data": {
      "image/png": "[encoded data removed]",
      "text/plain": [
       "<Figure size 432x288 with 1 Axes>"
      ]
     },
     "metadata": {},
     "output_type": "display_data"
    }
   ],
   "source": [
    "## one-vs-rest Logistic Regression ##\n",
    "\n",
    "# import libraries\n",
    "import pandas as pd\n",
    "import numpy as np\n",
    "import matplotlib.pyplot as plt\n",
    "import pylab\n",
    "from sklearn.linear_model import LogisticRegression\n",
    "from sklearn.metrics import accuracy_score\n",
    "\n",
    "# instanciate a model for each category\n",
    "lr=LogisticRegression()\n",
    "lr0 = LogisticRegression()\n",
    "lr1 = LogisticRegression()\n",
    "lr2 = LogisticRegression()\n",
    "\n",
    "# fit each of the models\n",
    "lr0.fit(X,y==0)\n",
    "lr1.fit(X,y==1)\n",
    "lr2.fit(X,y==2)\n",
    "\n",
    "#compare raw outputs\n",
    "print(\"Compare outputs\")\n",
    "print(lr0.decision_function(X)[0]) # get raw model output\n",
    "print(lr1.decision_function(X)[0]) # get raw model output\n",
    "print(lr2.decision_function(X)[0]) # get raw model output\n",
    "\n",
    "# fit model\n",
    "lr.fit(X_train, y_train)\n",
    "\n",
    "# make predictions\n",
    "y_pred=lr.predict(X_test)\n",
    "\n",
    "# evaluate predictions\n",
    "lr.score(X_test, y_test)\n",
    "\n",
    "# print predictions\n",
    "print(y_pred)\n",
    "print(df3.target_names[y_pred])\n",
    "\n",
    "# Evaluate and print test-set accuracy\n",
    "accuracy_train = accuracy_score(y_train, y_pred_train)\n",
    "# Evaluate and print test-set accuracy\n",
    "accuracy = accuracy_score(y_test, y_pred)\n",
    "\n",
    "print('Accuracy of Logistic Regressiom on training data: {:.3f}'.format(accuracy_train))\n",
    "print('Accuracy of Logistic Regressiom: {:.3f}'.format(accuracy))\n",
    "\n",
    "# Plot the results\n",
    "xs = X_test[:,0]\n",
    "ys = X_test[:,2]\n",
    "plt.scatter(xs, ys, c=y_pred)\n",
    "pylab.savefig('Graphs/logisticregression1versusrest.png')\n",
    "plt.show()"
   ]
  },
  {
   "cell_type": "markdown",
   "metadata": {},
   "source": [
    "### softmax/multinomial"
   ]
  },
  {
   "cell_type": "code",
   "execution_count": 47,
   "metadata": {},
   "outputs": [
    {
     "name": "stdout",
     "output_type": "stream",
     "text": [
      "[1 0 0 2 2 0 1 2 0 2 2 0 2 2 0 2 1 0 1 1 1 2 2 0 1 1 2 2 2 0 0 0 2 2 0 2 2\n",
      " 2 1 0 2 2 0 0 0]\n",
      "['versicolor' 'setosa' 'setosa' 'virginica' 'virginica' 'setosa'\n",
      " 'versicolor' 'virginica' 'setosa' 'virginica' 'virginica' 'setosa'\n",
      " 'virginica' 'virginica' 'setosa' 'virginica' 'versicolor' 'setosa'\n",
      " 'versicolor' 'versicolor' 'versicolor' 'virginica' 'virginica' 'setosa'\n",
      " 'versicolor' 'versicolor' 'virginica' 'virginica' 'virginica' 'setosa'\n",
      " 'setosa' 'setosa' 'virginica' 'virginica' 'setosa' 'virginica'\n",
      " 'virginica' 'virginica' 'versicolor' 'setosa' 'virginica' 'virginica'\n",
      " 'setosa' 'setosa' 'setosa']\n",
      "Softmax training accuracy: 0.9904761904761905\n",
      "Softmax test accuracy    : 0.9555555555555556\n"
     ]
    },
    {
     "data": {
      "image/png": "[encoded data removed]",
      "text/plain": [
       "<Figure size 432x288 with 1 Axes>"
      ]
     },
     "metadata": {},
     "output_type": "display_data"
    }
   ],
   "source": [
    "## Softmax Logistic Regression ##\n",
    "\n",
    "# import libraries\n",
    "import pandas as pd\n",
    "import numpy as np\n",
    "import matplotlib.pyplot as plt\n",
    "import pylab\n",
    "from sklearn.linear_model import LogisticRegression\n",
    "from sklearn.metrics import accuracy_score\n",
    "\n",
    "# instanciate model\n",
    "lr = LogisticRegression(multi_class=\"multinomial\",solver=\"lbfgs\")\n",
    "\n",
    "# fit model\n",
    "lr.fit(X_train, y_train)\n",
    "\n",
    "# make predictions\n",
    "y_pred=lr.predict(X_test)\n",
    "\n",
    "# evaluate predictions\n",
    "lr.score(X_test, y_test)\n",
    "\n",
    "# print predictions\n",
    "print(y_pred)\n",
    "print(df3.target_names[y_pred])\n",
    "\n",
    "# Evaluate and print test-set accuracy\n",
    "\n",
    "print(\"Softmax training accuracy:\", lr.score(X_train, y_train))\n",
    "print(\"Softmax test accuracy    :\", lr.score(X_test, y_test))\n",
    "\n",
    "# Plot the results\n",
    "xs = X_test[:,0]\n",
    "ys = X_test[:,2]\n",
    "plt.scatter(xs, ys, c=y_pred)\n",
    "pylab.savefig('Graphs/logisticregressionsoftmax.png')\n",
    "plt.show()"
   ]
  },
  {
   "cell_type": "markdown",
   "metadata": {},
   "source": [
    "## SGDClassifier\n",
    "\n",
    "the SGDClassifier (Stochastic Gradient Descent) scales well to large datasets, and supports both logistic regression and support vectors simply by  defining the loss type. \n",
    "\n",
    "On makes binary classification\n",
    "\n",
    "Example:\n",
    "\n",
    "from sklearn.linear_model import SGDClassifier\n",
    "\n",
    "logreg = SGDClassifier(loss='log')\n",
    "\n",
    "linsvm = SGDClassifier(loss='hinge')\n",
    "\n",
    "With the SGDClassifier hyperparameter alpha is like 1/C in logistic regression and svm. Unlike c higher alpha values mean More not less regularization."
   ]
  },
  {
   "cell_type": "code",
   "execution_count": 59,
   "metadata": {},
   "outputs": [
    {
     "name": "stderr",
     "output_type": "stream",
     "text": [
      "/Applications/anaconda3/lib/python3.6/site-packages/sklearn/linear_model/stochastic_gradient.py:128: FutureWarning: max_iter and tol parameters have been added in <class 'sklearn.linear_model.stochastic_gradient.SGDClassifier'> in 0.19. If both are left unset, they default to max_iter=5 and tol=None. If tol is not None, max_iter defaults to max_iter=1000. From 0.21, default max_iter will be 1000, and default tol will be 1e-3.\n",
      "  \"and default tol will be 1e-3.\" % type(self), FutureWarning)\n"
     ]
    },
    {
     "name": "stdout",
     "output_type": "stream",
     "text": [
      "[2 0 0 2 2 0 0 2 0 2 2 0 2 2 0 2 2 0 0 2 0 2 2 0 0 0 2 2 2 0 0 0 2 2 0 2 2\n",
      " 2 2 0 2 2 0 0 0]\n",
      "['virginica' 'setosa' 'setosa' 'virginica' 'virginica' 'setosa' 'setosa'\n",
      " 'virginica' 'setosa' 'virginica' 'virginica' 'setosa' 'virginica'\n",
      " 'virginica' 'setosa' 'virginica' 'virginica' 'setosa' 'setosa'\n",
      " 'virginica' 'setosa' 'virginica' 'virginica' 'setosa' 'setosa' 'setosa'\n",
      " 'virginica' 'virginica' 'virginica' 'setosa' 'setosa' 'setosa'\n",
      " 'virginica' 'virginica' 'setosa' 'virginica' 'virginica' 'virginica'\n",
      " 'virginica' 'setosa' 'virginica' 'virginica' 'setosa' 'setosa' 'setosa']\n",
      "SGD training accuracy: 0.6761904761904762\n",
      "SGD test accuracy    : 0.8\n"
     ]
    },
    {
     "data": {
      "image/png": "[encoded data removed]",
      "text/plain": [
       "<Figure size 432x288 with 1 Axes>"
      ]
     },
     "metadata": {},
     "output_type": "display_data"
    }
   ],
   "source": [
    "## SGDClassifier ##\n",
    "\n",
    "# import libraries\n",
    "import pandas as pd\n",
    "import numpy as np\n",
    "import matplotlib.pyplot as plt\n",
    "import pylab\n",
    "from sklearn.linear_model import SGDClassifier\n",
    "from sklearn.model_selection import GridSearchCV\n",
    "from sklearn.metrics import accuracy_score\n",
    "\n",
    "# instanciate classifier and set random_state=0 for reproducibility \n",
    "SGD = SGDClassifier(random_state=0)\n",
    "\n",
    "#fit model\n",
    "SGD.fit(X_train, y_train)\n",
    "\n",
    "# make predictions\n",
    "y_pred=SGD.predict(X_test)\n",
    "\n",
    "# evaluate predictions\n",
    "SGD.score(X_test, y_test)\n",
    "\n",
    "# print predictions\n",
    "print(y_pred)\n",
    "print(df3.target_names[y_pred])\n",
    "\n",
    "# Evaluate and print test-set accuracy\n",
    "\n",
    "print(\"SGD training accuracy:\", SGD.score(X_train, y_train))\n",
    "print(\"SGD test accuracy    :\", SGD.score(X_test, y_test))\n",
    "\n",
    "# Plot the results\n",
    "xs = X_test[:,0]\n",
    "ys = X_test[:,2]\n",
    "plt.scatter(xs, ys, c=y_pred)\n",
    "pylab.savefig('Graphs/SGD.png')\n",
    "plt.show()"
   ]
  },
  {
   "cell_type": "markdown",
   "metadata": {},
   "source": [
    "## k-Nearest Neighbors\n",
    "\n",
    "k-Nearest Neighbors plots datapoints and then classifies any unlabled point by looking at a given number of its nearest neighbors and giving the unabbed point the same label as the most commonly occuring label of the neighbors.\n",
    "\n",
    ">Example\n",
    "> ### Import Library\n",
    ">from sklearn.neighbors import KNeighborsClassifier\n",
    "> ### creative classifier\n",
    ">knn = KNeighborsClassifier(n_neighbors=6)\n",
    "> ### fit classifier\n",
    ">knn.fit(df['data'], df['target'])\n",
    "\n",
    ">KNeighborsClassifier(algorithm='auto', leaf_size=30,metric='minkowski',metric_params=None, n_jobs=1,n_neighbors=6, p=2,weights='uniform')\n",
    "> ### pridict training data\n",
    ">prediction = knn.predict(df[data])\n",
    "> ### preict unlabbed data\n",
    ">new_prediction = knn.predict(new_data)\n",
    "\n",
    "### Model complexity\n",
    "\n",
    "In k nearest neightbour classifiers we can use **decision boundaries** to help classify data.\n",
    "\n",
    "Generally more complex models run the risk of being over sensative to noise in the specific data you have rather than general trends in the data this is known as **overfitting**.\n",
    "\n",
    "If you increase k even more and make the model will perform even worse on both the trainng and test data, this is known as **underfitting**\n",
    "\n",
    "You can plot model complexity showing the accuracy of the training data and the test data, this is know as a **model complexity curve**. The optomum accuracy is somewhere between the overfitting and underfitting positions. \n",
    "\n",
    "Larger k = smoother decision boundary = less complex model \n",
    "\n",
    "Smaller k = more complex model = can lead to overfitting"
   ]
  },
  {
   "cell_type": "code",
   "execution_count": 35,
   "metadata": {},
   "outputs": [
    {
     "name": "stdout",
     "output_type": "stream",
     "text": [
      "[1 0 0 2 2 0 1 2 0 2 2 0 2 2 0 2 2 0 1 1 1 2 2 0 1 1 2 2 2 0 0 0 1 2 0 2 2\n",
      " 2 1 0 2 2 0 0 0]\n",
      "['versicolor' 'setosa' 'setosa' 'virginica' 'virginica' 'setosa'\n",
      " 'versicolor' 'virginica' 'setosa' 'virginica' 'virginica' 'setosa'\n",
      " 'virginica' 'virginica' 'setosa' 'virginica' 'virginica' 'setosa'\n",
      " 'versicolor' 'versicolor' 'versicolor' 'virginica' 'virginica' 'setosa'\n",
      " 'versicolor' 'versicolor' 'virginica' 'virginica' 'virginica' 'setosa'\n",
      " 'setosa' 'setosa' 'versicolor' 'virginica' 'setosa' 'virginica'\n",
      " 'virginica' 'virginica' 'versicolor' 'setosa' 'virginica' 'virginica'\n",
      " 'setosa' 'setosa' 'setosa']\n",
      "Accuracy of k-Nearest Neighbors on training data: 0.981\n",
      "Accuracy of k-Nearest Neighbors: 0.956\n"
     ]
    },
    {
     "data": {
      "image/png": "[encoded data removed]",
      "text/plain": [
       "<Figure size 432x288 with 1 Axes>"
      ]
     },
     "metadata": {},
     "output_type": "display_data"
    }
   ],
   "source": [
    "## k-Nearest Neighbors for iris dataset ##\n",
    "\n",
    "# import libraries\n",
    "import pandas as pd\n",
    "import numpy as np\n",
    "import matplotlib.pyplot as plt\n",
    "import pylab\n",
    "from sklearn.neighbors import KNeighborsClassifier\n",
    "from sklearn.metrics import accuracy_score\n",
    "\n",
    "plt.style.use('ggplot')\n",
    "\n",
    "# instaciate classifier\n",
    "knn = KNeighborsClassifier(n_neighbors=6)\n",
    "\n",
    "# Fit model\n",
    "knn.fit(X_train, y_train)\n",
    "KNeighborsClassifier(algorithm='auto', leaf_size=30,metric='minkowski',metric_params=None, n_jobs=1,n_neighbors=6, p=2,weights='uniform')\n",
    "\n",
    "## Predicting on training data ##\n",
    "y_pred_train=knn.predict(X_train)\n",
    "## Predicting on unlabeled data ##\n",
    "y_pred = knn.predict(X_test)\n",
    "print(y_pred)\n",
    "print(df3.target_names[y_pred])\n",
    "\n",
    "## test accuracy\n",
    "\n",
    "# Evaluate and print test-set accuracy\n",
    "accuracy_train = accuracy_score(y_train, y_pred_train)\n",
    "# Evaluate and print test-set accuracy\n",
    "accuracy = accuracy_score(y_test, y_pred)\n",
    "\n",
    "print('Accuracy of k-Nearest Neighbors on training data: {:.3f}'.format(accuracy_train))\n",
    "print('Accuracy of k-Nearest Neighbors: {:.3f}'.format(accuracy))\n",
    "\n",
    "# Plot the results\n",
    "xs = X_test[:,0]\n",
    "ys = X_test[:,2]\n",
    "plt.scatter(xs, ys, c=y_pred)\n",
    "pylab.savefig('Graphs/k-nearestneighbours.png')\n",
    "\n",
    "# Plot the training data\n",
    "xs = X_train[:,0]\n",
    "ys = X_train[:,2]\n",
    "plt.scatter(xs, ys,alpha=0.2, c=y_train)\n",
    "\n",
    "plt.show()"
   ]
  },
  {
   "cell_type": "markdown",
   "metadata": {},
   "source": [
    "# Tree Based Classifiers"
   ]
  },
  {
   "cell_type": "markdown",
   "metadata": {},
   "source": [
    "## Classification Trees\n",
    "\n",
    "A Classification Tree is a kind of Decision Trees which is a sequence of if-else questions about individual features used to infer a class labels.\n",
    "\n",
    "Decision Trees are able to capture non-linear relationships between features and labels.\n",
    "\n",
    "Decision Trees don't require feature scaling (ex: Standardization, ..)\n",
    "\n",
    "The key Arguments are **max_depth** which determines how many questions are asked (how many levels there are).\n",
    "\n",
    "**min_samples_leaf** which determines the minimum number of observations in any given leaf.\n",
    "\n",
    "**Random_state**\n",
    "\n",
    "## Evaluatation\n",
    "\n",
    "The mean squared error can used to evaluate the model"
   ]
  },
  {
   "cell_type": "code",
   "execution_count": 102,
   "metadata": {},
   "outputs": [
    {
     "name": "stdout",
     "output_type": "stream",
     "text": [
      "[0 0 0 0 0 2 1 0 2 1 1 0 1 1 2 0 2 2 2 0 2 2 2 2 0 2 2 1 1 1 0 0 2 1 0 0 2\n",
      " 0 2 1 2 1 0 0 2]\n",
      "['setosa' 'setosa' 'setosa' 'setosa' 'setosa' 'virginica' 'versicolor'\n",
      " 'setosa' 'virginica' 'versicolor' 'versicolor' 'setosa' 'versicolor'\n",
      " 'versicolor' 'virginica' 'setosa' 'virginica' 'virginica' 'virginica'\n",
      " 'setosa' 'virginica' 'virginica' 'virginica' 'virginica' 'setosa'\n",
      " 'virginica' 'virginica' 'versicolor' 'versicolor' 'versicolor' 'setosa'\n",
      " 'setosa' 'virginica' 'versicolor' 'setosa' 'setosa' 'virginica' 'setosa'\n",
      " 'virginica' 'versicolor' 'virginica' 'versicolor' 'setosa' 'setosa'\n",
      " 'virginica']\n",
      "RMSE of Classification Tree: 0.26\n",
      "Accuracy of Decision Tree Classifier: 0.933\n"
     ]
    },
    {
     "data": {
      "image/png": "[encoded data removed]",
      "text/plain": [
       "<Figure size 432x288 with 1 Axes>"
      ]
     },
     "metadata": {},
     "output_type": "display_data"
    }
   ],
   "source": [
    "## Decision Treee with Entropy ##\n",
    "\n",
    "# Import Libraries\n",
    "# import libraries\n",
    "import pandas as pd\n",
    "import numpy as np\n",
    "import matplotlib.pyplot as plt\n",
    "import pylab\n",
    "\n",
    "from sklearn.tree import DecisionTreeClassifier\n",
    "from sklearn.model_selection import train_test_split\n",
    "from sklearn.metrics import mean_squared_error as MSE\n",
    "from sklearn.metrics import accuracy_score\n",
    "\n",
    "plt.style.use('ggplot')\n",
    "\n",
    "# Split data into 70% train and 30% test\n",
    "X_train, X_test, y_train, y_test= train_test_split(X3, y3, test_size=0.3, random_state=3)\n",
    "\n",
    "# Instantiate a DecisionTreeRegressor 'dt'\n",
    "dt = DecisionTreeClassifier(max_depth=2, min_samples_leaf=0.1,random_state=3)\n",
    "\n",
    "# Fit 'dt' to the training-set\n",
    "dt.fit(X_train, y_train)\n",
    "\n",
    "# Predict test-set labels\n",
    "y_pred = dt.predict(X_test)\n",
    "\n",
    "# print labels\n",
    "print(y_pred)\n",
    "\n",
    "print(iris.target_names[y_pred])\n",
    "\n",
    "# Compute mse_dt\n",
    "mse_dt = MSE(y_pred,y_test)\n",
    "\n",
    "# Compute rmse_dt\n",
    "rmse_dt = mse_dt ** (1/2)\n",
    "\n",
    "# Print rmse_dt\n",
    "print(\"RMSE of Classification Tree: {:.2f}\".format(rmse_dt))\n",
    "\n",
    "# Evaluate and print test-set accuracy\n",
    "accuracy = accuracy_score(y_test, y_pred)\n",
    "\n",
    "print('Accuracy of Decision Tree Classifier: {:.3f}'.format(accuracy))\n",
    "\n",
    "xs = X_test[:,0]\n",
    "ys = X_test[:,2]\n",
    "plt.scatter(xs, ys, c=y_pred)\n",
    "pylab.savefig('Graphs/regressiontree.png')\n",
    "plt.show()"
   ]
  },
  {
   "cell_type": "markdown",
   "metadata": {},
   "source": [
    "## Classification Trees with entropy / gini criterion"
   ]
  },
  {
   "cell_type": "code",
   "execution_count": 80,
   "metadata": {},
   "outputs": [
    {
     "name": "stdout",
     "output_type": "stream",
     "text": [
      "[0 0 0 0 0 2 1 0 2 1 1 0 1 1 2 0 2 2 2 0 2 2 2 2 0 2 2 1 1 1 0 0 2 1 0 0 1\n",
      " 0 2 1 2 1 0 0 2]\n",
      "['setosa' 'setosa' 'setosa' 'setosa' 'setosa' 'virginica' 'versicolor'\n",
      " 'setosa' 'virginica' 'versicolor' 'versicolor' 'setosa' 'versicolor'\n",
      " 'versicolor' 'virginica' 'setosa' 'virginica' 'virginica' 'virginica'\n",
      " 'setosa' 'virginica' 'virginica' 'virginica' 'virginica' 'setosa'\n",
      " 'virginica' 'virginica' 'versicolor' 'versicolor' 'versicolor' 'setosa'\n",
      " 'setosa' 'virginica' 'versicolor' 'setosa' 'setosa' 'versicolor' 'setosa'\n",
      " 'virginica' 'versicolor' 'virginica' 'versicolor' 'setosa' 'setosa'\n",
      " 'virginica']\n",
      "RMSE of Classification Tree entropy: 0.21\n",
      "Accuracy achieved by using entropy:  0.9555555555555556\n"
     ]
    },
    {
     "data": {
      "image/png": "[encoded data removed]",
      "text/plain": [
       "<Figure size 432x288 with 1 Axes>"
      ]
     },
     "metadata": {},
     "output_type": "display_data"
    },
    {
     "name": "stdout",
     "output_type": "stream",
     "text": [
      "['setosa' 'setosa' 'setosa' 'setosa' 'setosa' 'virginica' 'versicolor'\n",
      " 'setosa' 'virginica' 'versicolor' 'versicolor' 'setosa' 'versicolor'\n",
      " 'versicolor' 'virginica' 'setosa' 'virginica' 'virginica' 'virginica'\n",
      " 'setosa' 'virginica' 'virginica' 'virginica' 'virginica' 'setosa'\n",
      " 'virginica' 'virginica' 'versicolor' 'versicolor' 'versicolor' 'setosa'\n",
      " 'setosa' 'virginica' 'versicolor' 'setosa' 'setosa' 'virginica' 'setosa'\n",
      " 'virginica' 'versicolor' 'virginica' 'versicolor' 'setosa' 'setosa'\n",
      " 'virginica']\n",
      "[0 0 0 0 0 2 1 0 2 1 1 0 1 1 2 0 2 2 2 0 2 2 2 2 0 2 2 1 1 1 0 0 2 1 0 0 2\n",
      " 0 2 1 2 1 0 0 2]\n",
      "RMSE of Classification Tree gini: 0.26\n",
      "Accuracy achieved by using gini:  0.9333333333333333\n"
     ]
    },
    {
     "data": {
      "image/png": "[encoded data removed]",
      "text/plain": [
       "<Figure size 432x288 with 1 Axes>"
      ]
     },
     "metadata": {},
     "output_type": "display_data"
    }
   ],
   "source": [
    "## Decision Tree ##\n",
    "\n",
    "# Import Libraries\n",
    "import pandas as pd\n",
    "import numpy as np\n",
    "import matplotlib.pyplot as plt\n",
    "import pylab\n",
    "from sklearn.tree import DecisionTreeClassifier\n",
    "from sklearn.model_selection import train_test_split\n",
    "from sklearn.metrics import accuracy_score\n",
    "from sklearn.metrics import mean_squared_error as MSE\n",
    "\n",
    "# Split data into 70% train and 30% test\n",
    "X_train, X_test, y_train, y_test= train_test_split(X, y, test_size=0.3, random_state=3)\n",
    "\n",
    "# Instantiate dt_entropy, set 'entropy' as the information criterion\n",
    "dt_entropy = DecisionTreeClassifier(max_depth=8, criterion='entropy', random_state=1)\n",
    "\n",
    "# Instantiate dt, set 'criterion' to 'gini'\n",
    "dt_gini = DecisionTreeClassifier(criterion='gini', random_state=1)\n",
    "\n",
    "# Fit 'dt' to the training-set\n",
    "dt_entropy.fit(X_train, y_train)\n",
    "dt_gini.fit(X_train, y_train)\n",
    "\n",
    "# Predict test-set labels\n",
    "y_pred = dt_entropy.predict(X_test)\n",
    "y_pred2 = dt_gini.predict(X_test)\n",
    "\n",
    "# Compute mse_dt\n",
    "mse_dt = MSE(y_pred,y_test)\n",
    "\n",
    "# Compute mse_dt\n",
    "mse_dt = MSE(y_pred,y_test)\n",
    "\n",
    "# Compute rmse_dt\n",
    "rmse_dt = mse_dt ** (1/2)\n",
    "\n",
    "# Evaluate accuracy\n",
    "accuracy_entropy = accuracy_score(y_test, y_pred)\n",
    "\n",
    "# print results\n",
    "print(y_pred)\n",
    "print(df3.target_names[y_pred])\n",
    "\n",
    "# Print rmse_dt\n",
    "print(\"RMSE of Classification Tree entropy: {:.2f}\".format(rmse_dt))\n",
    "\n",
    "# Print accuracy\n",
    "print('Accuracy achieved by using entropy: ', accuracy_entropy)\n",
    "\n",
    "# plot results\n",
    "x = X_test[:,0]\n",
    "y = X_test[:,2]\n",
    "plt.scatter(x, y, c=y_pred)\n",
    "pylab.savefig('Graphs/decisiontree.png')\n",
    "plt.show()\n",
    "\n",
    "# Compute mse_dt\n",
    "print(df3.target_names[y_pred2])\n",
    "\n",
    "# Compute mse_dt\n",
    "mse_dt2 = MSE(y_pred2,y_test)\n",
    "\n",
    "# Compute rmse_dt\n",
    "rmse_dt2 = mse_dt2 ** (1/2)\n",
    "\n",
    "# Evaluate accuracy\n",
    "accuracy_gini = accuracy_score(y_test, y_pred2)\n",
    "\n",
    "# print labels\n",
    "print(y_pred2)\n",
    "\n",
    "# Print rmse_dt\n",
    "print(\"RMSE of Classification Tree gini: {:.2f}\".format(rmse_dt2))\n",
    "\n",
    "# Print accuracy\n",
    "print('Accuracy achieved by using gini: ', accuracy_gini)\n",
    "\n",
    "# plot results\n",
    "xs = X_test[:,0]\n",
    "ys = X_test[:,2]\n",
    "plt.scatter(xs, ys, c=y_pred2)\n",
    "pylab.savefig('Graphs/decisiontree2.png')\n",
    "plt.show()"
   ]
  },
  {
   "cell_type": "markdown",
   "metadata": {},
   "source": [
    "## Bootstrap Aggregation or Bagging\n",
    "\n",
    "Bootstrapping is a way of creating new data sets based on random sampling with replacement of a dataset.\n",
    "\n",
    "Bootstrap Aggregation or Bagging is an ensemble method using one tree based algorithm on various subsets of the training data.\n",
    "\n",
    "Bagging reduces the variance of individual models in the ensemble.\n",
    "\n",
    "Bootstapping allows assigning measures of accuracy, defined in terms of bias, variance, confidence intervals, prediction error or some other such measure based on real data without having to re run real tests over and over again.\n",
    "\n",
    "BaggingClassifier aggregates predictions based on majority voting.\n",
    "\n",
    ">from sklearn.ensemble import BaggingClassifier"
   ]
  },
  {
   "cell_type": "code",
   "execution_count": 85,
   "metadata": {},
   "outputs": [
    {
     "name": "stdout",
     "output_type": "stream",
     "text": [
      "Accuracy of Decission Tree: 0.933\n",
      "[0 0 0 0 0 2 1 0 2 1 1 0 1 1 2 0 1 2 2 0 2 2 2 1 0 2 2 1 1 1 0 0 2 1 0 0 2\n",
      " 0 2 1 2 1 0 0 2]\n",
      "['setosa' 'setosa' 'setosa' 'setosa' 'setosa' 'virginica' 'versicolor'\n",
      " 'setosa' 'virginica' 'versicolor' 'versicolor' 'setosa' 'versicolor'\n",
      " 'versicolor' 'virginica' 'setosa' 'versicolor' 'virginica' 'virginica'\n",
      " 'setosa' 'virginica' 'virginica' 'virginica' 'versicolor' 'setosa'\n",
      " 'virginica' 'virginica' 'versicolor' 'versicolor' 'versicolor' 'setosa'\n",
      " 'setosa' 'virginica' 'versicolor' 'setosa' 'setosa' 'virginica' 'setosa'\n",
      " 'virginica' 'versicolor' 'virginica' 'versicolor' 'setosa' 'setosa'\n",
      " 'virginica']\n",
      "Accuracy of Bagging Classifier: 0.978\n"
     ]
    },
    {
     "data": {
      "image/png": "[encoded data removed]",
      "text/plain": [
       "<Figure size 432x288 with 1 Axes>"
      ]
     },
     "metadata": {},
     "output_type": "display_data"
    }
   ],
   "source": [
    "# Import models and utility functions\n",
    "from sklearn.ensemble import BaggingClassifier\n",
    "from sklearn.tree import DecisionTreeClassifier\n",
    "from sklearn.metrics import accuracy_score\n",
    "from sklearn.model_selection import train_test_split\n",
    "\n",
    "plt.style.use('ggplot')\n",
    "\n",
    "# Set seed for reproducibility\n",
    "SEED = 1\n",
    "\n",
    "# Split data into 70% train and 30% test\n",
    "X_train, X_test, y_train, y_test= train_test_split(X, y, test_size=0.3, random_state=3)\n",
    "\n",
    "# Instantiate a classification-tree 'dt'\n",
    "dt = DecisionTreeClassifier(max_depth=4, min_samples_leaf=0.16,random_state=SEED)\n",
    "\n",
    "# calculate accuracy of decision Tree\n",
    "dt.fit(X_train, y_train)\n",
    "y_pred1 = dt.predict(X_test)\n",
    "accuracy1 = accuracy_score(y_test, y_pred1)\n",
    "print('Accuracy of Decission Tree: {:.3f}'.format(accuracy1))\n",
    "\n",
    "# Instantiate a BaggingClassifier 'bc'\n",
    "bc = BaggingClassifier(base_estimator=dt, n_estimators=300, n_jobs=-1)\n",
    "\n",
    "# Fit 'bc' to the training set\n",
    "bc.fit(X_train, y_train)\n",
    "\n",
    "# Predict test set labels\n",
    "y_pred = bc.predict(X_test)\n",
    "\n",
    "# print results\n",
    "print(y_pred)\n",
    "print(df3.target_names[y_pred])\n",
    "\n",
    "# Evaluate and print test-set accuracy\n",
    "accuracy = accuracy_score(y_test, y_pred)\n",
    "\n",
    "print('Accuracy of Bagging Classifier: {:.3f}'.format(accuracy))\n",
    "\n",
    "# plot results\n",
    "xs = X_test[:,0]\n",
    "ys = X_test[:,2]\n",
    "plt.scatter(xs, ys, c=y_pred)\n",
    "pylab.savefig('Graphs/bagging.png')\n",
    "plt.show()"
   ]
  },
  {
   "cell_type": "markdown",
   "metadata": {},
   "source": [
    "## Out of Bag Evaluation\n",
    "\n",
    "In bagging we use replacement, so the same instance may be sampled several times in one model, but if some instances are samples multiple times it means that some instances are not sampled at all in a model.\n",
    "\n",
    "On average, for each model, 63% of the training instances are sampled.\n",
    "\n",
    "The remaining 37% constitute the OOB or 'Out of Bag' instances.\n",
    "\n",
    "Because OOB instances are not seen by the model, they are ideal candidates to use estimate the performance of the model,without the need for cross validation.\n",
    "\n",
    "For a given bootstrap n models are produced each model some of the instances are used in the sample the remaining  instances are used to evaluate the model, the oob score for the bagging ensemble is calulated by averaging the oob score for each of the models in the bbagging ensemble."
   ]
  },
  {
   "cell_type": "code",
   "execution_count": 87,
   "metadata": {},
   "outputs": [
    {
     "name": "stdout",
     "output_type": "stream",
     "text": [
      "[0 0 0 0 0 2 1 0 2 1 1 0 1 1 2 0 1 2 2 0 2 2 2 1 0 2 2 1 1 1 0 0 2 1 0 0 2\n",
      " 0 2 1 2 1 0 0 2]\n",
      "['setosa' 'setosa' 'setosa' 'setosa' 'setosa' 'virginica' 'versicolor'\n",
      " 'setosa' 'virginica' 'versicolor' 'versicolor' 'setosa' 'versicolor'\n",
      " 'versicolor' 'virginica' 'setosa' 'versicolor' 'virginica' 'virginica'\n",
      " 'setosa' 'virginica' 'virginica' 'virginica' 'versicolor' 'setosa'\n",
      " 'virginica' 'virginica' 'versicolor' 'versicolor' 'versicolor' 'setosa'\n",
      " 'setosa' 'virginica' 'versicolor' 'setosa' 'setosa' 'virginica' 'setosa'\n",
      " 'virginica' 'versicolor' 'virginica' 'versicolor' 'setosa' 'setosa'\n",
      " 'virginica']\n",
      "Test set accuracy: 0.978\n",
      "OOB accuracy: 0.924\n"
     ]
    },
    {
     "data": {
      "image/png": "[encoded data removed]",
      "text/plain": [
       "<Figure size 432x288 with 1 Axes>"
      ]
     },
     "metadata": {},
     "output_type": "display_data"
    }
   ],
   "source": [
    "# Import models and split utility function\n",
    "from sklearn.ensemble import BaggingClassifier\n",
    "from sklearn.tree import DecisionTreeClassifier\n",
    "from sklearn.metrics import accuracy_score\n",
    "from sklearn.model_selection import train_test_split\n",
    "\n",
    "plt.style.use('ggplot')\n",
    "\n",
    "# Set seed for reproducibility\n",
    "SEED = 1\n",
    "\n",
    "# Split data into 70% train and 30% test\n",
    "X_train, X_test, y_train, y_test= train_test_split(X, y, test_size=0.3, random_state=3)\n",
    "\n",
    "# Instantiate a classification-tree 'dt'\n",
    "dt = DecisionTreeClassifier(max_depth=4,min_samples_leaf=0.16, random_state=SEED)\n",
    "\n",
    "# Instantiate a BaggingClassifier 'bc'; set oob_score= True \n",
    "bc = BaggingClassifier(base_estimator=dt, n_estimators=300,oob_score=True, n_jobs=-1)\n",
    "\n",
    "# Fit 'bc' to the traing set\n",
    "bc.fit(X_train, y_train)\n",
    "\n",
    "# Predict the test set labels\n",
    "y_pred = bc.predict(X_test)\n",
    "\n",
    "# print results\n",
    "print(y_pred)\n",
    "print(df3.target_names[y_pred])\n",
    "    \n",
    "# Evaluate test set accuracy\n",
    "test_accuracy = accuracy_score(y_test, y_pred)\n",
    "    \n",
    "# Extract the OOB accuracy from 'bc'\n",
    "oob_accuracy = bc.oob_score_\n",
    "\n",
    "# Print test set accuracy\n",
    "print('Test set accuracy: {:.3f}'.format(test_accuracy))\n",
    "\n",
    "# Print OOB accuracy\n",
    "print('OOB accuracy: {:.3f}'.format(oob_accuracy))\n",
    "\n",
    "# plot results\n",
    "xs = X_test[:,0]\n",
    "ys = X_test[:,2]\n",
    "plt.scatter(xs, ys, c=y_pred)\n",
    "pylab.savefig('Graphs/oobbagging.png')\n",
    "plt.show()"
   ]
  },
  {
   "cell_type": "markdown",
   "metadata": {},
   "source": [
    "## Random Forest\n",
    "\n",
    "Random Forest is an ensemble method, similar to bagging.\n",
    "\n",
    "Random Forest uses only Decision Trees as base estimators.\n",
    "\n",
    "In Randow Forest each estimator is trained on a different bootstrap sample the same size as the training set\n",
    "\n",
    "Random Forest introduces further randomization in the training of individual trees.\n",
    "\n",
    "d features are sampled at each node without replacement\n",
    "\n",
    "The default number of features d is the square root of the total number of features. So if you had 100 features d would be 10 by default. ie 10 features would be sampled at each node without replacement.\n",
    "\n",
    "Once trained, we can predict on new instances. The new instances are fed to each of the base estimators, each estimator (decision trees) makes predictions and passes them to the Random Forest meta model and a final decision is made.\n",
    "\n",
    "Random Forest Classification Aggregates predictions using majority voting\n",
    "\n",
    ">from sklearn.ensemble import RandomForestClassifier\n",
    "\n",
    "Generally a Random Forest will produce results with a lower variance than a single Classification Tree."
   ]
  },
  {
   "cell_type": "code",
   "execution_count": 88,
   "metadata": {},
   "outputs": [
    {
     "name": "stdout",
     "output_type": "stream",
     "text": [
      "[0 0 0 0 0 2 1 0 2 1 1 0 1 1 2 0 1 2 2 0 2 2 2 1 0 2 2 1 1 1 0 0 2 1 0 0 2\n",
      " 0 2 1 2 1 0 0 2]\n",
      "['setosa' 'setosa' 'setosa' 'setosa' 'setosa' 'virginica' 'versicolor'\n",
      " 'setosa' 'virginica' 'versicolor' 'versicolor' 'setosa' 'versicolor'\n",
      " 'versicolor' 'virginica' 'setosa' 'versicolor' 'virginica' 'virginica'\n",
      " 'setosa' 'virginica' 'virginica' 'virginica' 'versicolor' 'setosa'\n",
      " 'virginica' 'virginica' 'versicolor' 'versicolor' 'versicolor' 'setosa'\n",
      " 'setosa' 'virginica' 'versicolor' 'setosa' 'setosa' 'virginica' 'setosa'\n",
      " 'virginica' 'versicolor' 'virginica' 'versicolor' 'setosa' 'setosa'\n",
      " 'virginica']\n",
      "Accuracy achieved by using Random Forest:  0.9777777777777777\n",
      "Test set RMSE of rf: 0.15\n"
     ]
    },
    {
     "data": {
      "image/png": "[encoded data removed]",
      "text/plain": [
       "<Figure size 432x288 with 1 Axes>"
      ]
     },
     "metadata": {},
     "output_type": "display_data"
    }
   ],
   "source": [
    "## Random Forest Classification ##\n",
    "\n",
    "# Basic imports\n",
    "import pandas as pd\n",
    "import numpy as np\n",
    "from sklearn.ensemble import RandomForestClassifier\n",
    "from sklearn.model_selection import train_test_split\n",
    "from sklearn.metrics import accuracy_score\n",
    "from sklearn.metrics import mean_squared_error as MSE\n",
    "\n",
    "plt.style.use('ggplot')\n",
    "\n",
    "# Set seed for reproducibility\n",
    "SEED = 1\n",
    "\n",
    "# Split data into 70% train and 30% test\n",
    "X_train, X_test, y_train, y_test= train_test_split(X, y, test_size=0.3, random_state=3)\n",
    "\n",
    "# Instantiate a random forests regressor 'rf' 400 estimators\n",
    "rf = RandomForestClassifier(n_estimators=400, min_samples_leaf=0.12,random_state=SEED)\n",
    "\n",
    "# Fit 'rf' to the training set\n",
    "rf.fit(X_train, y_train)\n",
    "\n",
    "# Predict the test set labels 'y_pred'\n",
    "y_pred = rf.predict(X_test)\n",
    "\n",
    "# print results\n",
    "print(y_pred)\n",
    "print(df3.target_names[y_pred])\n",
    "\n",
    "# Evaluate accuracy\n",
    "accuracy = accuracy_score(y_test, y_pred)\n",
    "\n",
    "# Print accuracy\n",
    "print('Accuracy achieved by using Random Forest: ', accuracy)\n",
    "\n",
    "# Evaluate the test set RMSE\n",
    "rmse_test = MSE(y_test, y_pred)**(1/2)\n",
    "\n",
    "# Print the test set RMSE\n",
    "print('Test set RMSE of rf: {:.2f}'.format(rmse_test))\n",
    "\n",
    "# plot results\n",
    "xs = X_test[:,0]\n",
    "ys = X_test[:,2]\n",
    "plt.scatter(xs, ys, c=y_pred)\n",
    "pylab.savefig('Graphs/randomforest.png')\n",
    "plt.show()"
   ]
  },
  {
   "cell_type": "markdown",
   "metadata": {},
   "source": [
    "## Random Forests Feature Importance\n",
    "\n",
    "When a Tree based method is trained the predictive power of a feature can be assessed using\n",
    "\n",
    ">feature_importance_\n",
    "\n",
    "this is expressed as a percentage, indicating the wait of that feature in training and prediction.\n",
    "\n",
    "To visualize the importance of features you can create a pandas series of feature importances and display this with matplotlib."
   ]
  },
  {
   "cell_type": "code",
   "execution_count": 62,
   "metadata": {},
   "outputs": [
    {
     "data": {
      "image/png": "[encoded data removed]",
      "text/plain": [
       "<Figure size 432x288 with 1 Axes>"
      ]
     },
     "metadata": {},
     "output_type": "display_data"
    }
   ],
   "source": [
    "## Random Forest Classification ##\n",
    "\n",
    "# Basic imports\n",
    "import pandas as pd\n",
    "import numpy as np\n",
    "from sklearn.ensemble import RandomForestClassifier\n",
    "from sklearn.model_selection import train_test_split\n",
    "from sklearn.metrics import accuracy_score\n",
    "from sklearn.metrics import mean_squared_error as MSE\n",
    "\n",
    "# Set seed for reproducibility\n",
    "SEED = 1\n",
    "\n",
    "# Split dataset into 70% train and 30% test\n",
    "X_train, X_test, y_train, y_test = train_test_split(X, y,test_size=0.3,random_state=SEED)\n",
    "\n",
    "# Instantiate a random forests regressor 'rf' 400 estimators\n",
    "rf = RandomForestClassifier(n_estimators=400, min_samples_leaf=0.12,random_state=SEED)\n",
    "\n",
    "# Fit 'rf' to the training set\n",
    "rf.fit(X_train, y_train)\n",
    "\n",
    "# Predict the test set labels 'y_pred'\n",
    "y_pred = rf.predict(X_test)\n",
    "\n",
    "# Evaluate accuracy\n",
    "accuracy = accuracy_score(y_test, y_pred)\n",
    "\n",
    "# Create a pd.Series of features importances\n",
    "X=pd.read_csv('Data/irisdata.csv')\n",
    "importances_rf = pd.Series(rf.feature_importances_, index = X.columns)\n",
    "\n",
    "# Sort importances_rf                                   \n",
    "sorted_importances_rf = importances_rf.sort_values()       \n",
    "\n",
    "# Make a horizontal bar plot\n",
    "sorted_importances_rf.plot(kind='barh',color='red')\n",
    "plt.show()"
   ]
  },
  {
   "cell_type": "code",
   "execution_count": null,
   "metadata": {},
   "outputs": [],
   "source": []
  },
  {
   "cell_type": "markdown",
   "metadata": {},
   "source": [
    "## Adaboost"
   ]
  },
  {
   "cell_type": "code",
   "execution_count": null,
   "metadata": {},
   "outputs": [],
   "source": []
  },
  {
   "cell_type": "markdown",
   "metadata": {},
   "source": [
    "## Gadient Boosting"
   ]
  },
  {
   "cell_type": "code",
   "execution_count": null,
   "metadata": {},
   "outputs": [],
   "source": []
  },
  {
   "cell_type": "markdown",
   "metadata": {},
   "source": [
    "## Stochastic Gradient Boosting (SGB)"
   ]
  },
  {
   "cell_type": "code",
   "execution_count": null,
   "metadata": {},
   "outputs": [],
   "source": []
  },
  {
   "cell_type": "markdown",
   "metadata": {},
   "source": [
    "# The Classifiers - Unsupervised Learning¶"
   ]
  },
  {
   "cell_type": "markdown",
   "metadata": {},
   "source": [
    "## k-means clustering (sklearn)"
   ]
  },
  {
   "cell_type": "code",
   "execution_count": 103,
   "metadata": {},
   "outputs": [
    {
     "name": "stdout",
     "output_type": "stream",
     "text": [
      "[0 1 1 2 2 1 0 2 1 2 2 1 2 2 1 2 0 1 0 0 0 2 2 1 0 0 2 0 0 1 1 1 0 2 1 2 2\n",
      " 2 0 1 2 0 1 1 1]\n",
      "['setosa' 'versicolor' 'versicolor' 'virginica' 'virginica' 'versicolor'\n",
      " 'setosa' 'virginica' 'versicolor' 'virginica' 'virginica' 'versicolor'\n",
      " 'virginica' 'virginica' 'versicolor' 'virginica' 'setosa' 'versicolor'\n",
      " 'setosa' 'setosa' 'setosa' 'virginica' 'virginica' 'versicolor' 'setosa'\n",
      " 'setosa' 'virginica' 'setosa' 'setosa' 'versicolor' 'versicolor'\n",
      " 'versicolor' 'setosa' 'virginica' 'versicolor' 'virginica' 'virginica'\n",
      " 'virginica' 'setosa' 'versicolor' 'virginica' 'setosa' 'versicolor'\n",
      " 'versicolor' 'versicolor']\n",
      "-27.494783620625604\n",
      "Accuracy of kmeans Classifier: 0.356\n"
     ]
    },
    {
     "data": {
      "image/png": "[encoded data removed]",
      "text/plain": [
       "<Figure size 432x288 with 1 Axes>"
      ]
     },
     "metadata": {},
     "output_type": "display_data"
    }
   ],
   "source": [
    "## k-means clustering for iris dataset ##\n",
    "\n",
    "#import libraries\n",
    "from sklearn.cluster import KMeans\n",
    "import matplotlib.pyplot as plt\n",
    "import pylab\n",
    "\n",
    "# set random seed\n",
    "SEED=np.random.seed(seed=90)\n",
    "\n",
    "# Split data into 70% train and 30% test\n",
    "X_train, X_test, y_train, y_test = train_test_split(X3,y3,test_size=0.3, random_state=SEED)\n",
    "\n",
    "# instanciate model\n",
    "kmeans = KMeans(n_clusters=3)\n",
    "\n",
    "# fit model\n",
    "kmeans.fit(X_train,y_train)\n",
    "\n",
    "# create Labels\n",
    "kmlabels = kmeans.predict(X_test)\n",
    "\n",
    "# print labels\n",
    "print(kmlabels)\n",
    "\n",
    "print(iris.target_names[kmlabels])\n",
    "\n",
    "## test accuracy\n",
    "print(kmeans.score(X_test, kmlabels))\n",
    "\n",
    "# Evaluate and print test-set accuracy\n",
    "accuracy = accuracy_score(y_test, kmlabels)\n",
    "\n",
    "print('Accuracy of kmeans Classifier: {:.3f}'.format(accuracy))\n",
    "\n",
    "x2 = X_test[:,0]\n",
    "y2 = X_test[:,2]\n",
    "plt.scatter(x2, y2, c=kmlabels)\n",
    "pylab.savefig('Graphs/k-means.png')\n",
    "plt.show()"
   ]
  },
  {
   "cell_type": "markdown",
   "metadata": {},
   "source": [
    "## k-means clustering (scipy)"
   ]
  },
  {
   "cell_type": "code",
   "execution_count": null,
   "metadata": {},
   "outputs": [],
   "source": []
  },
  {
   "cell_type": "markdown",
   "metadata": {},
   "source": [
    "## hierarchical clustering  (sklearn)"
   ]
  },
  {
   "cell_type": "code",
   "execution_count": null,
   "metadata": {},
   "outputs": [],
   "source": []
  },
  {
   "cell_type": "markdown",
   "metadata": {},
   "source": [
    "## hierarchical clustering  (scipy)"
   ]
  },
  {
   "cell_type": "code",
   "execution_count": null,
   "metadata": {},
   "outputs": [],
   "source": [
    "                                                  "
   ]
  },
  {
   "cell_type": "markdown",
   "metadata": {},
   "source": [
    "## t-distributed stochastic neighbor embedding - t-SNE (sklearn) "
   ]
  },
  {
   "cell_type": "code",
   "execution_count": null,
   "metadata": {},
   "outputs": [],
   "source": []
  },
  {
   "cell_type": "markdown",
   "metadata": {},
   "source": [
    "# The Classifiers - Deep Learning"
   ]
  },
  {
   "cell_type": "markdown",
   "metadata": {},
   "source": [
    "## categorical_crossentropy loss function "
   ]
  },
  {
   "cell_type": "code",
   "execution_count": null,
   "metadata": {},
   "outputs": [],
   "source": []
  }
 ],
 "metadata": {
  "kernelspec": {
   "display_name": "Python 3",
   "language": "python",
   "name": "python3"
  },
  "language_info": {
   "codemirror_mode": {
    "name": "ipython",
    "version": 3
   },
   "file_extension": ".py",
   "mimetype": "text/x-python",
   "name": "python",
   "nbconvert_exporter": "python",
   "pygments_lexer": "ipython3",
   "version": "3.6.8"
  }
 },
 "nbformat": 4,
 "nbformat_minor": 2
}
