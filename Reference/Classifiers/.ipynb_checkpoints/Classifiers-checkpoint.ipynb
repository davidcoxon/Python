{
 "cells": [
  {
   "cell_type": "markdown",
   "metadata": {},
   "source": [
    "# Classifiers\n",
    "\n",
    "In statistics and machine learning, classifiers are models that try to identifying which categories (sub-populations) a new observation belongs, on the basis of a training set of data containing observations (or instances) whose category membership is known.\n",
    "\n",
    "Classifiers takes unlabbed data as in input and outputs a label.\n",
    "\n",
    "There are many different techniques for performing classifications this notebook was created to pull some of the most common classifiers together for comparisom."
   ]
  },
  {
   "cell_type": "markdown",
   "metadata": {},
   "source": [
    "## Sample Data\n",
    "\n",
    "There are lots of classic classification datasets that have been used to illustrate."
   ]
  },
  {
   "cell_type": "markdown",
   "metadata": {},
   "source": [
    "## Breast Cancer Dataset\n",
    "\n",
    "569 datapoints with 32 columns, each data point can be classified as Malignant (m) or Benign (b).\n",
    "\n",
    "From the Wisconsin Breast Cancer Dataset from the UCI machine learning repository.\n",
    "\n",
    "https://www.kaggle.com/uciml/breast-cancer-wisconsin-data\n",
    "\n",
    "You can predict whether a tumor is malignant or benign based on the features in the dataset. You can even make reasonable predictions on as few as two of the features: the mean radius of the tumor (radius_mean) and its mean number of concave points (concave points_mean)."
   ]
  },
  {
   "cell_type": "code",
   "execution_count": null,
   "metadata": {},
   "outputs": [],
   "source": [
    "# import libraries\n",
    "import pandas as pd\n",
    "import numpy as np\n",
    "\n",
    "# import data\n",
    "df=pd.read_csv('Data/breast_cancer_data.csv')\n",
    "print(df.describe())\n",
    "\n",
    "# create X and y data\n",
    "X=df[['radius_mean','concave points_mean']]\n",
    "y=df[['results']]\n",
    "#y= y.values\n",
    "#y = y.ravel()\n",
    "\n",
    "print(X.shape)\n",
    "print(y.shape)\n",
    "\n",
    "# set random seed\n",
    "SEED=np.random.seed(seed=100)\n",
    "\n",
    "# Split data into 70% train and 30% test\n",
    "X_train, X_test, y_train, y_test = train_test_split(X,y,test_size=0.3, random_state=SEED)"
   ]
  },
  {
   "cell_type": "markdown",
   "metadata": {},
   "source": [
    "## Indian Liver Patient dataset\n",
    "\n",
    "583 observations (rows) with 10 dimensions (columns), each observation can be classified as patient or not a patient (1 or 2).\n",
    "\n",
    "From the Indian Liver Patient dataset from the UCI machine learning repository. \n",
    "\n",
    "https://www.kaggle.com/uciml/indian-liver-patient-records"
   ]
  },
  {
   "cell_type": "code",
   "execution_count": null,
   "metadata": {},
   "outputs": [],
   "source": [
    "# import libraries\n",
    "import pandas as pd\n",
    "import numpy as np\n",
    "from sklearn.model_selection import train_test_split\n",
    "\n",
    "# import Data\n",
    "df2=pd.read_csv('data/indian_liver_patient_data.csv')\n",
    "\n",
    "X2=df2[['age','is_male','tot_bilirubin','direct_bilirubin','tot_proteins','albumin','ag_ratio','sgpt','sgot']]\n",
    "y2=df2[['is_patient']]\n",
    "y2= y2.values\n",
    "y2 = y2.ravel()\n",
    "\n",
    "print(df2.describe())\n",
    "print(y2.shape)\n",
    "print(X2.shape)\n",
    "\n",
    "# set random seed\n",
    "SEED=np.random.seed(seed=90)\n",
    "\n",
    "# Split data into 70% train and 30% test\n",
    "X_train2, X_test2, y_train2, y_test2 = train_test_split(X2,y2,test_size=0.3, random_state=SEED)"
   ]
  },
  {
   "cell_type": "markdown",
   "metadata": {},
   "source": [
    "## Iris dataset\n",
    "\n",
    "150 observations(rows), and 4 dimensions (columns) each observation can be classified into 1 or 3 classifications of Iris variety.\n",
    "\n",
    "The Iris dataset is built into the Sklearn library\n",
    "\n",
    "https://scikit-learn.org/stable/modules/generated/sklearn.datasets.load_iris.html"
   ]
  },
  {
   "cell_type": "code",
   "execution_count": 52,
   "metadata": {},
   "outputs": [
    {
     "name": "stdout",
     "output_type": "stream",
     "text": [
      "(150, 4)\n",
      "(150,)\n"
     ]
    }
   ],
   "source": [
    "# import libraries\n",
    "import pandas as pd\n",
    "import numpy as np\n",
    "from sklearn import datasets\n",
    "from sklearn.model_selection import train_test_split\n",
    "\n",
    "# import data\n",
    "df3 = datasets.load_iris()\n",
    "\n",
    "X3= df3['data']\n",
    "y3= df3['target']\n",
    "\n",
    "print(X3.shape)\n",
    "print(y3.shape)\n",
    "\n",
    "# set random seed\n",
    "SEED=np.random.seed(seed=90)\n",
    "\n",
    "# Split data into 70% train and 30% test\n",
    "X_train, X_test, y_train, y_test = train_test_split(X3,y3,test_size=0.3, random_state=SEED)"
   ]
  },
  {
   "cell_type": "markdown",
   "metadata": {},
   "source": [
    "# The Classifiers - Supervised Learning"
   ]
  },
  {
   "cell_type": "markdown",
   "metadata": {},
   "source": [
    "## k-Nearest Neighbors\n",
    "\n",
    "k-Nearest Neighbors plots datapoints and then classifies any unlabled point by looking at a given number of its nearest neighbors and giving the unabbed point the same label as the most commonly occuring label of the neighbors.\n",
    "\n",
    ">Example\n",
    "> ### Import Library\n",
    ">from sklearn.neighbors import KNeighborsClassifier\n",
    "> ### creative classifier\n",
    ">knn = KNeighborsClassifier(n_neighbors=6)\n",
    "> ### fit classifier\n",
    ">knn.fit(df['data'], df['target'])\n",
    "\n",
    ">KNeighborsClassifier(algorithm='auto', leaf_size=30,metric='minkowski',metric_params=None, n_jobs=1,n_neighbors=6, p=2,weights='uniform')\n",
    "> ### pridict training data\n",
    ">prediction = knn.predict(df[data])\n",
    "> ### pridict unlabbed data\n",
    ">new_prediction = knn.predict(new_data)\n",
    "\n",
    "### Model complexity\n",
    "\n",
    "In k nearest neightbour classifiers we can use **decision boundaries** to help classify data.\n",
    "\n",
    "Generally more complex models run the risk of being over sensative to noise in the specific data you have rather than general trends in the data this is known as **overfitting**.\n",
    "\n",
    "If you increase k even more and make the model will perform even worse on both the trainng and test data, this is known as **underfitting**\n",
    "\n",
    "You can plot model complexity showing the accuracy of the training data and the test data, this is know as a **model complexity curve**. The optomum accuracy is somewhere between the overfitting and underfitting positions. \n",
    "\n",
    "Larger k = smoother decision boundary = less complex model \n",
    "\n",
    "Smaller k = more complex model = can lead to overfitting"
   ]
  },
  {
   "cell_type": "code",
   "execution_count": 100,
   "metadata": {},
   "outputs": [
    {
     "name": "stdout",
     "output_type": "stream",
     "text": [
      "[1 0 0 2 2 0 1 2 0 2 2 0 2 2 0 2 2 0 1 1 1 2 2 0 1 1 2 2 2 0 0 0 1 2 0 2 2\n",
      " 2 1 0 2 2 0 0 0]\n",
      "['versicolor' 'setosa' 'setosa' 'virginica' 'virginica' 'setosa'\n",
      " 'versicolor' 'virginica' 'setosa' 'virginica' 'virginica' 'setosa'\n",
      " 'virginica' 'virginica' 'setosa' 'virginica' 'virginica' 'setosa'\n",
      " 'versicolor' 'versicolor' 'versicolor' 'virginica' 'virginica' 'setosa'\n",
      " 'versicolor' 'versicolor' 'virginica' 'virginica' 'virginica' 'setosa'\n",
      " 'setosa' 'setosa' 'versicolor' 'virginica' 'setosa' 'virginica'\n",
      " 'virginica' 'virginica' 'versicolor' 'setosa' 'virginica' 'virginica'\n",
      " 'setosa' 'setosa' 'setosa']\n",
      "1.0\n",
      "Accuracy of k-Nearest Neighbors: 0.956\n"
     ]
    },
    {
     "data": {
      "image/png": "[encoded data removed]",
      "text/plain": [
       "<Figure size 432x288 with 1 Axes>"
      ]
     },
     "metadata": {},
     "output_type": "display_data"
    }
   ],
   "source": [
    "## k-Nearest Neighbors for iris dataset ##\n",
    "\n",
    "# import libraries\n",
    "\n",
    "import pandas as pd\n",
    "import numpy as np\n",
    "import matplotlib.pyplot as plt\n",
    "plt.style.use('ggplot')\n",
    "import pylab\n",
    "\n",
    "from sklearn.neighbors import KNeighborsClassifier\n",
    "from sklearn.metrics import accuracy_score\n",
    "\n",
    "# instaciate classifier\n",
    "knn = KNeighborsClassifier(n_neighbors=6)\n",
    "\n",
    "# Fit model\n",
    "knn.fit(X_train3, y_train3)\n",
    "KNeighborsClassifier(algorithm='auto', leaf_size=30,metric='minkowski',metric_params=None, n_jobs=1,n_neighbors=6, p=2,weights='uniform')\n",
    "\n",
    "## Predicting on unlabeled data ##\n",
    "y_pred = knn.predict(X_test3)\n",
    "print(y_pred)\n",
    "print(iris.target_names[y_pred])\n",
    "\n",
    "## test accuracy\n",
    "print(knn.score(X_test3, y_pred))\n",
    "\n",
    "# Evaluate and print test-set accuracy\n",
    "accuracy = accuracy_score(y_test3, y_pred)\n",
    "\n",
    "print('Accuracy of k-Nearest Neighbors: {:.3f}'.format(accuracy))\n",
    "\n",
    "# Plot the results\n",
    "xs = X_test[:,0]\n",
    "ys = X_test[:,2]\n",
    "plt.scatter(xs, ys, c=y_pred)\n",
    "pylab.savefig('Graphs/k-nearestneighbours.png')\n",
    "plt.show()"
   ]
  },
  {
   "cell_type": "markdown",
   "metadata": {},
   "source": [
    "# Support Vector Machines"
   ]
  },
  {
   "cell_type": "markdown",
   "metadata": {},
   "source": [
    "## Linear SVC"
   ]
  },
  {
   "cell_type": "code",
   "execution_count": 64,
   "metadata": {},
   "outputs": [
    {
     "name": "stdout",
     "output_type": "stream",
     "text": [
      "Accuracy of linear SVC on training set: 0.97\n",
      "Accuracy of linear SVC on test set: 0.96\n"
     ]
    },
    {
     "data": {
      "image/png": "[encoded data removed]",
      "text/plain": [
       "<Figure size 432x288 with 1 Axes>"
      ]
     },
     "metadata": {},
     "output_type": "display_data"
    }
   ],
   "source": [
    "## Linear SVC for iris dataset ##\n",
    "\n",
    "from sklearn.svm import LinearSVC\n",
    "\n",
    "clf = LinearSVC(penalty='l2', loss='squared_hinge',\n",
    "                dual=True, tol=0.0001, C=100, multi_class='ovr',\n",
    "                fit_intercept=True, intercept_scaling=1, class_weight=None,verbose=0\n",
    "                , random_state=0, max_iter=1000)\n",
    "clf.fit(X_train,y_train)\n",
    "\n",
    "print('Accuracy of linear SVC on training set: {:.2f}'.format(clf.score(X_train, y_train)))\n",
    "\n",
    "print('Accuracy of linear SVC on test set: {:.2f}'.format(clf.score(X_test, y_test)))\n",
    "\n",
    "y_predc=clf.predict(X_test)\n",
    "# Plot the results\n",
    "xc = X_test[:,0]\n",
    "yc = X_test[:,2]\n",
    "plt.scatter(xc, yc, c=y_predc)\n",
    "pylab.savefig('Graphs/linearsvc.png')\n",
    "plt.show()"
   ]
  },
  {
   "cell_type": "markdown",
   "metadata": {},
   "source": [
    "## Non Linear SVC"
   ]
  },
  {
   "cell_type": "code",
   "execution_count": 60,
   "metadata": {},
   "outputs": [
    {
     "name": "stdout",
     "output_type": "stream",
     "text": [
      "Number of original examples 105\n",
      "Number of support vectors 22\n",
      "[1 0 0 2 2 0 1 2 0 2 2 0 2 2 0 2 2 0 1 1 1 2 2 0 1 1 2 2 2 0 0 0 2 2 0 2 2\n",
      " 2 1 0 2 2 0 0 0]\n",
      "['versicolor' 'setosa' 'setosa' 'virginica' 'virginica' 'setosa'\n",
      " 'versicolor' 'virginica' 'setosa' 'virginica' 'virginica' 'setosa'\n",
      " 'virginica' 'virginica' 'setosa' 'virginica' 'virginica' 'setosa'\n",
      " 'versicolor' 'versicolor' 'versicolor' 'virginica' 'virginica' 'setosa'\n",
      " 'versicolor' 'versicolor' 'virginica' 'virginica' 'virginica' 'setosa'\n",
      " 'setosa' 'setosa' 'virginica' 'virginica' 'setosa' 'virginica'\n",
      " 'virginica' 'virginica' 'versicolor' 'setosa' 'virginica' 'virginica'\n",
      " 'setosa' 'setosa' 'setosa']\n"
     ]
    },
    {
     "data": {
      "image/png": "[encoded data removed]",
      "text/plain": [
       "<Figure size 432x288 with 1 Axes>"
      ]
     },
     "metadata": {},
     "output_type": "display_data"
    }
   ],
   "source": [
    "## SVC for iris dataset ##\n",
    "\n",
    "import pandas as pd\n",
    "import numpy as np\n",
    "import matplotlib.pyplot as plt\n",
    "plt.style.use('ggplot')\n",
    "import pylab\n",
    "\n",
    "from sklearn.linear_model import LogisticRegression\n",
    "from sklearn.svm import SVC\n",
    "from sklearn.metrics import accuracy_score\n",
    "\n",
    "\n",
    "# Instanciate classifier\n",
    "svm = SVC(kernel=\"linear\")\n",
    "\n",
    "# Train a linear SVM\n",
    "svm.fit(X_train,y_train)\n",
    "\n",
    "# Make a new data set keeping only the support vectors\n",
    "print(\"Number of original examples\", len(X_train))\n",
    "print(\"Number of support vectors\", len(svm.support_))\n",
    "X_small = X_train[svm.support_]\n",
    "y_small = y_train[svm.support_]\n",
    "\n",
    "# Train a new SVM using only the support vectors\n",
    "svm_small = SVC(kernel=\"linear\")\n",
    "svm_small.fit(X_test,y_test)\n",
    "\n",
    "# predict labels\n",
    "y_pred=svm_small.predict(X_test)\n",
    "\n",
    "#print results\n",
    "print(y_pred)\n",
    "print(df3.target_names[y_pred])\n",
    "\n",
    "# Plot the results\n",
    "xs = X_test[:,0]\n",
    "ys = X_test[:,2]\n",
    "plt.scatter(xs, ys, c=y_pred)\n",
    "pylab.savefig('Graphs/svm.png')\n",
    "plt.show()"
   ]
  },
  {
   "cell_type": "markdown",
   "metadata": {},
   "source": [
    "## Classification Trees\n",
    "\n",
    "A Classification Tree is a kind of Decision Trees which is a sequence of if-else questions about individual features used to infer a class labels.\n",
    "\n",
    "Decision Trees are able to capture non-linear relationships between features and labels.\n",
    "\n",
    "Decision Trees don't require feature scaling (ex: Standardization, ..)\n",
    "\n",
    "The key Arguments are **max_depth** which determines how many questions are asked (how many levels there are).\n",
    "\n",
    "**min_samples_leaf** which determines the minimum number of observations in any given leaf.\n",
    "\n",
    "**Random_state**\n",
    "\n",
    "## Evaluatation\n",
    "\n",
    "The mean squared error can used to evaluate the model"
   ]
  },
  {
   "cell_type": "code",
   "execution_count": 101,
   "metadata": {},
   "outputs": [
    {
     "name": "stdout",
     "output_type": "stream",
     "text": [
      "[0 0 0 0 0 2 1 0 2 1 1 0 1 1 2 0 2 2 2 0 2 2 2 2 0 2 2 1 1 1 0 0 2 1 0 0 1\n",
      " 0 2 1 2 1 0 0 2]\n",
      "['setosa' 'setosa' 'setosa' 'setosa' 'setosa' 'virginica' 'versicolor'\n",
      " 'setosa' 'virginica' 'versicolor' 'versicolor' 'setosa' 'versicolor'\n",
      " 'versicolor' 'virginica' 'setosa' 'virginica' 'virginica' 'virginica'\n",
      " 'setosa' 'virginica' 'virginica' 'virginica' 'virginica' 'setosa'\n",
      " 'virginica' 'virginica' 'versicolor' 'versicolor' 'versicolor' 'setosa'\n",
      " 'setosa' 'virginica' 'versicolor' 'setosa' 'setosa' 'versicolor' 'setosa'\n",
      " 'virginica' 'versicolor' 'virginica' 'versicolor' 'setosa' 'setosa'\n",
      " 'virginica']\n",
      "[0 0 0 0 0 2 1 0 2 1 1 0 1 1 2 0 2 2 2 0 2 2 2 2 0 2 2 1 1 1 0 0 2 1 0 0 2\n",
      " 0 2 1 2 1 0 0 2]\n",
      "['setosa' 'setosa' 'setosa' 'setosa' 'setosa' 'virginica' 'versicolor'\n",
      " 'setosa' 'virginica' 'versicolor' 'versicolor' 'setosa' 'versicolor'\n",
      " 'versicolor' 'virginica' 'setosa' 'virginica' 'virginica' 'virginica'\n",
      " 'setosa' 'virginica' 'virginica' 'virginica' 'virginica' 'setosa'\n",
      " 'virginica' 'virginica' 'versicolor' 'versicolor' 'versicolor' 'setosa'\n",
      " 'setosa' 'virginica' 'versicolor' 'setosa' 'setosa' 'virginica' 'setosa'\n",
      " 'virginica' 'versicolor' 'virginica' 'versicolor' 'setosa' 'setosa'\n",
      " 'virginica']\n",
      "RMSE of Classification Tree entropy: 0.21\n",
      "RMSE of Classification Tree gini: 0.26\n",
      "Accuracy achieved by using entropy:  0.9555555555555556\n",
      "Accuracy achieved by using gini:  0.9333333333333333\n"
     ]
    },
    {
     "data": {
      "image/png": "[encoded data removed]",
      "text/plain": [
       "<Figure size 432x288 with 1 Axes>"
      ]
     },
     "metadata": {},
     "output_type": "display_data"
    }
   ],
   "source": [
    "## Decision Tree ##\n",
    "\n",
    "# Import Libraries\n",
    "from sklearn.tree import DecisionTreeClassifier\n",
    "from sklearn.model_selection import train_test_split\n",
    "from sklearn.metrics import mean_squared_error as MSE\n",
    "\n",
    "# Split data into 70% train and 30% test\n",
    "X_train, X_test, y_train, y_test= train_test_split(X3, y3, test_size=0.3, random_state=3)\n",
    "\n",
    "# Instantiate dt_entropy, set 'entropy' as the information criterion\n",
    "dt_entropy = DecisionTreeClassifier(max_depth=8, criterion='entropy', random_state=1)\n",
    "\n",
    "# Instantiate dt, set 'criterion' to 'gini'\n",
    "dt_gini = DecisionTreeClassifier(criterion='gini', random_state=1)\n",
    "\n",
    "# Fit 'dt' to the training-set\n",
    "dt_entropy.fit(X_train, y_train)\n",
    "dt_gini.fit(X_train, y_train)\n",
    "\n",
    "# Predict test-set labels\n",
    "y_pred = dt_entropy.predict(X_test)\n",
    "y_pred2 = dt_gini.predict(X_test)\n",
    "\n",
    "# print labels\n",
    "print(y_pred)\n",
    "\n",
    "print(iris.target_names[y_pred])\n",
    "\n",
    "# print labels\n",
    "print(y_pred2)\n",
    "\n",
    "print(iris.target_names[y_pred2])\n",
    "\n",
    "# Compute mse_dt\n",
    "mse_dt = MSE(y_pred,y_test)\n",
    "mse_dt2 = MSE(y_pred2,y_test)\n",
    "\n",
    "# Compute rmse_dt\n",
    "rmse_dt = mse_dt ** (1/2)\n",
    "rmse_dt2 = mse_dt2 ** (1/2)\n",
    "\n",
    "# Print rmse_dt\n",
    "print(\"RMSE of Classification Tree entropy: {:.2f}\".format(rmse_dt))\n",
    "print(\"RMSE of Classification Tree gini: {:.2f}\".format(rmse_dt2))\n",
    "\n",
    "# Evaluate accuracy\n",
    "accuracy_entropy = accuracy_score(y_test, y_pred)\n",
    "accuracy_gini = accuracy_score(y_test, y_pred2)\n",
    "\n",
    "# Print accuracy\n",
    "print('Accuracy achieved by using entropy: ', accuracy_entropy)\n",
    "print('Accuracy achieved by using gini: ', accuracy_gini)\n",
    "\n",
    "x = X_test[:,0]\n",
    "y = X_test[:,2]\n",
    "plt.scatter(x, y, c=y_pred)\n",
    "pylab.savefig('Graphs/decisiontree.png')\n",
    "plt.show()"
   ]
  },
  {
   "cell_type": "markdown",
   "metadata": {},
   "source": [
    "## Classification Trees with entropy / gini criterion"
   ]
  },
  {
   "cell_type": "code",
   "execution_count": 102,
   "metadata": {},
   "outputs": [
    {
     "name": "stdout",
     "output_type": "stream",
     "text": [
      "[0 0 0 0 0 2 1 0 2 1 1 0 1 1 2 0 2 2 2 0 2 2 2 2 0 2 2 1 1 1 0 0 2 1 0 0 2\n",
      " 0 2 1 2 1 0 0 2]\n",
      "['setosa' 'setosa' 'setosa' 'setosa' 'setosa' 'virginica' 'versicolor'\n",
      " 'setosa' 'virginica' 'versicolor' 'versicolor' 'setosa' 'versicolor'\n",
      " 'versicolor' 'virginica' 'setosa' 'virginica' 'virginica' 'virginica'\n",
      " 'setosa' 'virginica' 'virginica' 'virginica' 'virginica' 'setosa'\n",
      " 'virginica' 'virginica' 'versicolor' 'versicolor' 'versicolor' 'setosa'\n",
      " 'setosa' 'virginica' 'versicolor' 'setosa' 'setosa' 'virginica' 'setosa'\n",
      " 'virginica' 'versicolor' 'virginica' 'versicolor' 'setosa' 'setosa'\n",
      " 'virginica']\n",
      "RMSE of Classification Tree: 0.26\n",
      "Accuracy of Decision Tree Classifier: 0.933\n"
     ]
    },
    {
     "data": {
      "image/png": "[encoded data removed]",
      "text/plain": [
       "<Figure size 432x288 with 1 Axes>"
      ]
     },
     "metadata": {},
     "output_type": "display_data"
    }
   ],
   "source": [
    "## Decision Treee with Entropy ##\n",
    "\n",
    "# Import Libraries\n",
    "from sklearn.tree import DecisionTreeClassifier\n",
    "from sklearn.model_selection import train_test_split\n",
    "from sklearn.metrics import mean_squared_error as MSE\n",
    "\n",
    "# Split data into 70% train and 30% test\n",
    "X_train, X_test, y_train, y_test= train_test_split(X3, y3, test_size=0.3, random_state=3)\n",
    "\n",
    "# Instantiate a DecisionTreeRegressor 'dt'\n",
    "dt = DecisionTreeClassifier(max_depth=2, min_samples_leaf=0.1,random_state=3)\n",
    "\n",
    "# Fit 'dt' to the training-set\n",
    "dt.fit(X_train, y_train)\n",
    "\n",
    "# Predict test-set labels\n",
    "y_pred = dt.predict(X_test)\n",
    "\n",
    "# print labels\n",
    "print(y_pred)\n",
    "\n",
    "print(iris.target_names[y_pred])\n",
    "\n",
    "# Compute mse_dt\n",
    "mse_dt = MSE(y_pred,y_test)\n",
    "\n",
    "# Compute rmse_dt\n",
    "rmse_dt = mse_dt ** (1/2)\n",
    "\n",
    "# Print rmse_dt\n",
    "print(\"RMSE of Classification Tree: {:.2f}\".format(rmse_dt))\n",
    "\n",
    "# Evaluate and print test-set accuracy\n",
    "accuracy = accuracy_score(y_test, y_pred)\n",
    "\n",
    "print('Accuracy of Decision Tree Classifier: {:.3f}'.format(accuracy))\n",
    "\n",
    "x = X_test[:,0]\n",
    "y = X_test[:,2]\n",
    "plt.scatter(x, y, c=y_pred)\n",
    "pylab.savefig('Graphs/regressiontree.png')\n",
    "plt.show()"
   ]
  },
  {
   "cell_type": "markdown",
   "metadata": {},
   "source": [
    "# The Classifiers - Unsupervised Learning¶"
   ]
  },
  {
   "cell_type": "markdown",
   "metadata": {},
   "source": [
    "## k-means clustering (sklearn)"
   ]
  },
  {
   "cell_type": "code",
   "execution_count": 103,
   "metadata": {},
   "outputs": [
    {
     "name": "stdout",
     "output_type": "stream",
     "text": [
      "[0 1 1 2 2 1 0 2 1 2 2 1 2 2 1 2 0 1 0 0 0 2 2 1 0 0 2 0 0 1 1 1 0 2 1 2 2\n",
      " 2 0 1 2 0 1 1 1]\n",
      "['setosa' 'versicolor' 'versicolor' 'virginica' 'virginica' 'versicolor'\n",
      " 'setosa' 'virginica' 'versicolor' 'virginica' 'virginica' 'versicolor'\n",
      " 'virginica' 'virginica' 'versicolor' 'virginica' 'setosa' 'versicolor'\n",
      " 'setosa' 'setosa' 'setosa' 'virginica' 'virginica' 'versicolor' 'setosa'\n",
      " 'setosa' 'virginica' 'setosa' 'setosa' 'versicolor' 'versicolor'\n",
      " 'versicolor' 'setosa' 'virginica' 'versicolor' 'virginica' 'virginica'\n",
      " 'virginica' 'setosa' 'versicolor' 'virginica' 'setosa' 'versicolor'\n",
      " 'versicolor' 'versicolor']\n",
      "-27.494783620625604\n",
      "Accuracy of kmeans Classifier: 0.356\n"
     ]
    },
    {
     "data": {
      "image/png": "[encoded data removed]",
      "text/plain": [
       "<Figure size 432x288 with 1 Axes>"
      ]
     },
     "metadata": {},
     "output_type": "display_data"
    }
   ],
   "source": [
    "## k-means clustering for iris dataset ##\n",
    "\n",
    "#import libraries\n",
    "from sklearn.cluster import KMeans\n",
    "import matplotlib.pyplot as plt\n",
    "import pylab\n",
    "\n",
    "# set random seed\n",
    "SEED=np.random.seed(seed=90)\n",
    "\n",
    "# Split data into 70% train and 30% test\n",
    "X_train, X_test, y_train, y_test = train_test_split(X3,y3,test_size=0.3, random_state=SEED)\n",
    "\n",
    "# instanciate model\n",
    "kmeans = KMeans(n_clusters=3)\n",
    "\n",
    "# fit model\n",
    "kmeans.fit(X_train,y_train)\n",
    "\n",
    "# create Labels\n",
    "kmlabels = kmeans.predict(X_test)\n",
    "\n",
    "# print labels\n",
    "print(kmlabels)\n",
    "\n",
    "print(iris.target_names[kmlabels])\n",
    "\n",
    "## test accuracy\n",
    "print(kmeans.score(X_test, kmlabels))\n",
    "\n",
    "# Evaluate and print test-set accuracy\n",
    "accuracy = accuracy_score(y_test, kmlabels)\n",
    "\n",
    "print('Accuracy of kmeans Classifier: {:.3f}'.format(accuracy))\n",
    "\n",
    "x2 = X_test[:,0]\n",
    "y2 = X_test[:,2]\n",
    "plt.scatter(x2, y2, c=kmlabels)\n",
    "pylab.savefig('Graphs/k-means.png')\n",
    "plt.show()"
   ]
  },
  {
   "cell_type": "markdown",
   "metadata": {},
   "source": [
    "## k-means clustering (scipy)"
   ]
  },
  {
   "cell_type": "code",
   "execution_count": null,
   "metadata": {},
   "outputs": [],
   "source": []
  },
  {
   "cell_type": "markdown",
   "metadata": {},
   "source": [
    "## hierarchical clustering  (sklearn)"
   ]
  },
  {
   "cell_type": "code",
   "execution_count": null,
   "metadata": {},
   "outputs": [],
   "source": []
  },
  {
   "cell_type": "markdown",
   "metadata": {},
   "source": [
    "## hierarchical clustering  (scipy)"
   ]
  },
  {
   "cell_type": "code",
   "execution_count": null,
   "metadata": {},
   "outputs": [],
   "source": [
    "                                                  "
   ]
  },
  {
   "cell_type": "markdown",
   "metadata": {},
   "source": [
    "## t-distributed stochastic neighbor embedding - t-SNE (sklearn) "
   ]
  },
  {
   "cell_type": "code",
   "execution_count": null,
   "metadata": {},
   "outputs": [],
   "source": []
  },
  {
   "cell_type": "markdown",
   "metadata": {},
   "source": [
    "# The Classifiers - Deep Learning"
   ]
  },
  {
   "cell_type": "markdown",
   "metadata": {},
   "source": [
    "## categorical_crossentropy loss function "
   ]
  },
  {
   "cell_type": "code",
   "execution_count": null,
   "metadata": {},
   "outputs": [],
   "source": []
  },
  {
   "cell_type": "markdown",
   "metadata": {},
   "source": [
    "# Ensemble Learning"
   ]
  },
  {
   "cell_type": "code",
   "execution_count": null,
   "metadata": {},
   "outputs": [],
   "source": []
  }
 ],
 "metadata": {
  "kernelspec": {
   "display_name": "Python 3",
   "language": "python",
   "name": "python3"
  },
  "language_info": {
   "codemirror_mode": {
    "name": "ipython",
    "version": 3
   },
   "file_extension": ".py",
   "mimetype": "text/x-python",
   "name": "python",
   "nbconvert_exporter": "python",
   "pygments_lexer": "ipython3",
   "version": "3.6.8"
  }
 },
 "nbformat": 4,
 "nbformat_minor": 2
}
